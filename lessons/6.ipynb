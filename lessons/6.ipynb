{
 "cells": [
  {
   "cell_type": "markdown",
   "metadata": {},
   "source": [
    "# 5. Дисперсионный анализ\n",
    "\n",
    "```\n",
    "Ауд.: 287(274)\n",
    "Д/З: 288(275)\n",
    "```\n",
    "\n",
    "http://datalearning.ru/index.php/textbook?cid=1&mid=5&topic=2"
   ]
  },
  {
   "cell_type": "markdown",
   "metadata": {},
   "source": [
    "$$ \\tilde{D}_{within} = \\frac{1}{n}\\sum_{k=1}^{K} n_k \\tilde{\\sigma_k}^2 $$\n",
    "\n",
    "$$ \\tilde{D}_{between} = \\frac{1}{n}\\sum_{k=1}^{K} n_k (\\overline{x_k} - \\overline{x})^2 $$\n",
    "\n",
    "$$ \\tilde{D}_X = \\tilde{D}_{within} + \\tilde{D}_{between} $$\n",
    "\n",
    "ЭКД $ \\eta^2 = \\frac{\\tilde{D}_{between}}{\\tilde{D}_X} $"
   ]
  },
  {
   "cell_type": "markdown",
   "metadata": {},
   "source": [
    "# 6. Корреляционный анализ\n",
    "\n",
    "```\n",
    "Ауд.: 345(330) (расчет КК,КО), 445(423)\n",
    "Д/З: 268(255), 348(333), 442(420)\n",
    "```"
   ]
  },
  {
   "cell_type": "markdown",
   "metadata": {},
   "source": [
    "## Линейная регрессия\n",
    "\n",
    "$$ M[Y|x] = f(x) = \\beta_{0} + \\beta_{1} x $$\n",
    "\n",
    "$$ Y = \\beta_{0} + \\beta_{1} x + \\varepsilon, $$\n",
    "\n",
    "$$ \\varepsilon \\sim N(0, \\sigma^2 (неизв)) $$\n",
    "\n",
    "МНК-оценки:\n",
    "\n",
    "$$ \\tilde{\\beta_1} = \\frac{Q_{xy}}{Q_{x}}, $$\n",
    "\n",
    "$$ Q_{xy} = \\sum (x_i - \\overline{x})(y_i - \\overline{y}), Q_{x} = \\sum (x_i - \\overline{x}) $$\n",
    "\n",
    "$$ \\tilde{\\beta_0} = \\overline{y} - \\tilde{\\beta_1} \\overline{x} $$\n",
    "\n",
    "$$ e_i = y_i - \\tilde{y_i} $$\n",
    "\n",
    "Остаточная сумма квадратов:\n",
    "\n",
    "$$ Q_e = \\sum e_i^2 = \\sum (y_i - \\tilde{y_i})^2 $$\n",
    "\n",
    "$$ Q_y = Q_R + Q_e, Q_y = \\sum y_i^2 - n \\overline{y}^2, Q_R = \\frac{Q^2_{xy}}{Q_x} $$\n",
    "\n",
    "$Q_R$ &mdash; сумма квадратов, обусловленная регрессией; $Q_e$ &mdash; остаточная сумма квадратов\n",
    "\n",
    "КД $R^2 = 1 - \\frac{Q_e}{Q_y}$\n",
    "\n",
    "Для линейной регрессии\n",
    "\n",
    "$\\DeclareMathOperator{\\sign}{sign}$\n",
    "$$ r_{xy} = (\\sign \\tilde{\\beta_1})R $$"
   ]
  },
  {
   "cell_type": "markdown",
   "metadata": {},
   "source": [
    "## Ранговая корреляция\n",
    "\n",
    "$$ r_s = 1 - \\frac{6\\sum(x'_i - y'_i)^2}{n(n^2-1)} $$\n",
    "\n",
    "Значимость ранговой корреляции: $H_0: r_s = 0, H_1: r_s \\ne 0$:\n",
    "\n",
    "$$ |r_s| \\sqrt{\\frac{n - 2}{1 - r_s^2}} \\sim T(n - 2) $$"
   ]
  }
 ],
 "metadata": {
  "kernelspec": {
   "display_name": "Python 3",
   "language": "python",
   "name": "python3"
  },
  "language_info": {
   "codemirror_mode": {
    "name": "ipython",
    "version": 3
   },
   "file_extension": ".py",
   "mimetype": "text/x-python",
   "name": "python",
   "nbconvert_exporter": "python",
   "pygments_lexer": "ipython3",
   "version": "3.5.2"
  }
 },
 "nbformat": 4,
 "nbformat_minor": 2
}
