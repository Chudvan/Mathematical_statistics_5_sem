{
 "cells": [
  {
   "cell_type": "markdown",
   "metadata": {},
   "source": [
    "# 3 семинар. Проверка гипотез о параметрах нормально распределённой совокупности\n",
    "\n",
    "```\n",
    "Ауд.: 212(199)-220(207), 224(211), 234(221), 241(228)\n",
    "Д/З: 221(208), 223(210), 228(215), 229(216), 238(225), 249(236)\n",
    "```\n",
    "\n",
    "$$α = P[Z \\in V_k | H_0]$$\n",
    "$$β = P[Z \\in V \\\\ V_k | H_1]$$\n",
    "$$D(X_{mean} | (x_1..x_n) \\leftarrow X \\sim N(m, σ)) = σ^2 / n$$\n"
   ]
  },
  {
   "cell_type": "code",
   "execution_count": 5,
   "metadata": {},
   "outputs": [
    {
     "data": {
      "text/plain": [
       "41.059360378745396"
      ]
     },
     "execution_count": 5,
     "metadata": {},
     "output_type": "execute_result"
    }
   ],
   "source": [
    "from scipy import stats \n",
    "\n",
    "q = stats.norm(0, 1).ppf(0.9)\n",
    "# [stats.norm(0, 1).ppf(1 - 0.9), stats.norm(0, 1).ppf(0.9)]\n",
    "(q / 0.2) ** 2"
   ]
  }
 ],
 "metadata": {
  "kernelspec": {
   "display_name": "Python 3",
   "language": "python",
   "name": "python3"
  },
  "language_info": {
   "codemirror_mode": {
    "name": "ipython",
    "version": 3
   },
   "file_extension": ".py",
   "mimetype": "text/x-python",
   "name": "python",
   "nbconvert_exporter": "python",
   "pygments_lexer": "ipython3",
   "version": "3.5.2"
  }
 },
 "nbformat": 4,
 "nbformat_minor": 2
}
