{
 "cells": [
  {
   "cell_type": "markdown",
   "metadata": {},
   "source": [
    "# 4 семинар. Критерии согласия и однородность выборок\n",
    "\n",
    "```\n",
    "Ауд.: 300(285), 303(288), 417(395), 420(398)\n",
    "Д/З: 301(286), 304(289), 309(294), 419(397)\n",
    "```\n",
    "\n",
    "## Критерий $\\chi^2$\n",
    "\n",
    "$$ \\chi^2_в = \\sum\\limits_{k=1}^r \\frac{(n_k - np_k)^2}{np_k} $$\n",
    "\n",
    "$$ H_0: \\chi^2_в < \\chi^2_{\\alpha - 1}(r - l - 1), $$\n",
    "\n",
    "где `l` - число оцениваемых по выборке неизвестных параметров распределения.\n",
    "\n",
    "**Условие**: $np_k \\ge 5$\n",
    "\n",
    "## Критерий знаков\n",
    "\n",
    "$$ H_0: p = 1/2, H_1^{(1)}: p > 1/2, H_1^{(2)}: p < 1/2, H_1^{(3)}: p \\ne 1/2 $$\n",
    "\n",
    "`r` = число знаков `+`, `l` = число ненулевых разностей\n",
    "\n",
    "Статистика Фишера:\n",
    "\n",
    "$ F_в = \\frac{r}{l - r + 1} \\ge F_{1 - \\alpha}(k_1, k_2), k_1 = 2(l - r + 1), k_2 = 2r$ (для $H_1^{(1)}$);\n",
    "\n",
    "$ F_в = \\frac{l - r}{r + 1} \\ge F_{1 - \\alpha}(k_1, k_2), k_1 = 2(r + 1), k_2 = 2(l - r)$ (для $H_1^{(2)}$);"
   ]
  },
  {
   "cell_type": "markdown",
   "metadata": {},
   "source": [
    "---\n",
    "\n",
    "## Задачи\n",
    "\n",
    "### 285\n"
   ]
  },
  {
   "cell_type": "code",
   "execution_count": 4,
   "metadata": {},
   "outputs": [
    {
     "data": {
      "text/plain": [
       "13.276704135987622"
      ]
     },
     "execution_count": 4,
     "metadata": {},
     "output_type": "execute_result"
    }
   ],
   "source": [
    "import numpy as np\n",
    "from scipy import stats\n",
    "\n",
    "x = [110, 130, 70, 90, 100]\n",
    "alpha = 0.01\n",
    "p = 0.2\n",
    "n = np.sum(x)\n",
    "\n",
    "degrees = 5 - 0 - 1\n",
    "\n",
    "q = stats.chi2(degrees).ppf(1 - alpha)\n",
    "\n",
    "# c = np.sum"
   ]
  },
  {
   "cell_type": "markdown",
   "metadata": {},
   "source": [
    "### 288"
   ]
  },
  {
   "cell_type": "code",
   "execution_count": 6,
   "metadata": {},
   "outputs": [
    {
     "data": {
      "text/plain": [
       "(200, 7.8147279032511792)"
      ]
     },
     "execution_count": 6,
     "metadata": {},
     "output_type": "execute_result"
    }
   ],
   "source": [
    "import numpy as np\n",
    "from scipy import stats\n",
    "\n",
    "x = [41, 62, 45, 22, 16, 8, 4, 2, 0, 0, 0]\n",
    "lamda = \n",
    "alpha = 0.05\n",
    "p = 0.2\n",
    "n = np.sum(x)\n",
    "\n",
    "degrees = 5 - 1 - 1\n",
    "\n",
    "q = stats.chi2(degrees).ppf(1 - alpha)\n",
    "\n",
    "n, q"
   ]
  },
  {
   "cell_type": "markdown",
   "metadata": {},
   "source": [
    "### 395"
   ]
  },
  {
   "cell_type": "code",
   "execution_count": 12,
   "metadata": {},
   "outputs": [
    {
     "name": "stdout",
     "output_type": "stream",
     "text": [
      "False\n",
      "False\n"
     ]
    }
   ],
   "source": [
    "from scipy import stats\n",
    "\n",
    "l = 9\n",
    "r = 6\n",
    "alpha = 0.1\n",
    "\n",
    "k1 = 2 * (l - r + 1)\n",
    "k2 = 2 * r\n",
    "\n",
    "f = k2 / k1\n",
    "\n",
    "print(f >= stats.f(k1, k2).ppf(1 - alpha / 2))\n",
    "\n",
    "k1 = 2 * (r + 1)\n",
    "k2 = 2 * (l - r)\n",
    "\n",
    "f = k2 / k1\n",
    "\n",
    "print(f >= stats.f(k1, k2).ppf(1 - alpha / 2))\n",
    "\n"
   ]
  }
 ],
 "metadata": {
  "kernelspec": {
   "display_name": "Python 3",
   "language": "python",
   "name": "python3"
  },
  "language_info": {
   "codemirror_mode": {
    "name": "ipython",
    "version": 3
   },
   "file_extension": ".py",
   "mimetype": "text/x-python",
   "name": "python",
   "nbconvert_exporter": "python",
   "pygments_lexer": "ipython3",
   "version": "3.5.2"
  }
 },
 "nbformat": 4,
 "nbformat_minor": 2
}
