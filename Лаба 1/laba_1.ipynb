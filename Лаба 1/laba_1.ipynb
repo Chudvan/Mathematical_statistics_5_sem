{
 "cells": [
  {
   "cell_type": "code",
   "execution_count": 1,
   "metadata": {},
   "outputs": [],
   "source": [
    "%matplotlib inline\n",
    "import numpy as np\n",
    "from scipy import stats\n",
    "import matplotlib.pyplot as plt"
   ]
  },
  {
   "cell_type": "code",
   "execution_count": 2,
   "metadata": {},
   "outputs": [],
   "source": [
    "# Размеры выборок\n",
    "n1 = 100\n",
    "n2 = 100\n",
    "\n",
    "# Функции для получения выборок\n",
    "def gen_x1():\n",
    "    return np.random.chisquare(15, n1)\n",
    "\n",
    "def gen_x2():\n",
    "    return np.random.uniform(5, 25, n2)\n",
    "\n",
    "# Конкретные выборки\n",
    "x1, x2 = gen_x1(), gen_x2()"
   ]
  },
  {
   "cell_type": "markdown",
   "metadata": {},
   "source": [
    "## 1. Выборочные характеристики\n",
    "\n",
    "**Необходимо**:\n",
    "\n",
    "1. Описать распределения $X_1$ и $X_2$, найти их МО и дисперсию, указать объём выборок\n",
    "\n",
    "2. Рассчитать выборочные характеристики: среднее, $s$, $s^2$\n",
    "\n",
    "3. Рассчитать выборочные характеристики для совокупной выборки $x_1$ + $x_2$"
   ]
  },
  {
   "cell_type": "markdown",
   "metadata": {},
   "source": [
    "1.\n",
    "\n",
    "$X_1$ имеет распределение $\\chi^2(15)$. Объём выборки: n1 = 100\n",
    "\n",
    "Теоретические: \n",
    "\n",
    "1) мат. ожидание $M[X_1]$ = 15\n",
    "\n",
    "2) дисперсия $D[X_1]$ = 2 * 15 = 30\n",
    "\n",
    "$X_2$ имеет распределение $R[5, 25]$. Объём выборки: n2 = 100\n",
    "\n",
    "Теоретические: \n",
    "\n",
    "1) мат. ожидание $M[X_2]$ = (25 + 5) / 2 = 30 / 2 = 15\n",
    "\n",
    "2) дисперсия $D[X_2]$ = 2 * 15 = (25 - 5) ^ 2 / 12 = 33,(3)"
   ]
  },
  {
   "cell_type": "code",
   "execution_count": 3,
   "metadata": {},
   "outputs": [
    {
     "name": "stdout",
     "output_type": "stream",
     "text": [
      "2.\n",
      "Среднее 14.695061393851022, s=5.711437605867662, s^2=32.62051952571933\n",
      "Среднее 14.013761851381243, s=5.7638137210311635, s^2=33.22154861074711\n",
      "3.\n",
      "Среднее 14.354411622616135, s=5.747788821353443, s^2=33.0370763348756\n"
     ]
    }
   ],
   "source": [
    "def print_sample_chars(sample):\n",
    "    print(\"Среднее {}, s={}, s^2={}\".format(\n",
    "        np.mean(sample),\n",
    "        np.std(sample),\n",
    "        np.var(sample)\n",
    "    ))\n",
    "\n",
    "print('2.')\n",
    "print_sample_chars(x1)\n",
    "print_sample_chars(x2)\n",
    "print('3.')\n",
    "pooled = np.concatenate([x1, x2])\n",
    "print_sample_chars(pooled)"
   ]
  },
  {
   "cell_type": "markdown",
   "metadata": {},
   "source": [
    "## 2. Однопараметрические критерии\n",
    "\n",
    "**Необходимо**:\n",
    "\n",
    "Для СВ $X_1$ сформулировать гипотезы $H_0$, проверяемые следующими тестами:\n",
    "\n",
    "1. z-test\n",
    "2. t-test\n",
    "3. $\\chi^2-test$ ($m$ известно)\n",
    "4. $\\chi^2-test$ ($m$ неизвестно)\n",
    "\n",
    "Для каждой гипотезы рассчитать выборочное значение статистики критерия, p-value, выбрать уровень значимости $\\alpha$ и рассчитать ошибку статистического решения."
   ]
  },
  {
   "cell_type": "markdown",
   "metadata": {},
   "source": [
    "Проверим гипотезу $H_0: X_1 \\sim \\chi^2(17)$ на уровне значимости $\\alpha = .05$ с помощью z-test, t-test, $\\chi^2-test$ ($m$ известно), $\\chi^2-test$ ($m$ неизвестно)"
   ]
  },
  {
   "cell_type": "code",
   "execution_count": 4,
   "metadata": {},
   "outputs": [],
   "source": [
    "def s_0_2(sample_, mean_):\n",
    "    n = len(sample_)\n",
    "    return sum([(xi - mean_) ** 2 for xi in sample_]) / n \n",
    "\n",
    "def criterion_z_test(sample):\n",
    "    m0 = 17\n",
    "    sigma = 30\n",
    "    mean = np.mean(sample)\n",
    "    n = len(sample)\n",
    "    return (mean - m0) / sigma * np.sqrt(n)\n",
    "\n",
    "def criterion_t_test(sample):\n",
    "    s = np.std(sample) # s - оценка с.к.о.\n",
    "    mean = np.mean(sample) # выборочное среднее\n",
    "    m0 = 17 # основная гипотеза: МО генеральной совокупности для x2 составляет m0\n",
    "    n = len(sample)\n",
    "    return (mean - m0) / s * np.sqrt(n)\n",
    "\n",
    "def criterion_chi2_m(sample):\n",
    "    mean = 15\n",
    "    sigma0_2 = 34\n",
    "    n = len(sample)\n",
    "    return n * s_0_2(sample, mean) / sigma0_2\n",
    "\n",
    "def criterion_chi2_no_m(sample):\n",
    "    sigma0_2 = 34\n",
    "    n = len(sample)\n",
    "    return n * np.var(sample) / sigma0_2\n",
    "\n",
    "z_test_dist = stats.norm\n",
    "t_test_dist = stats.t\n",
    "chi2_test_dist = stats.chi2"
   ]
  },
  {
   "cell_type": "markdown",
   "metadata": {},
   "source": [
    "### P-value\n",
    "\n",
    "Рассчёт p-value для право-, лево- и двусторонней альтернативных гипотез:"
   ]
  },
  {
   "cell_type": "code",
   "execution_count": 5,
   "metadata": {},
   "outputs": [],
   "source": [
    "def left_p_value(dist, criterion_value, *args):\n",
    "    if not args:\n",
    "        return dist.cdf(criterion_value)\n",
    "    return dist.cdf(criterion_value, *args)\n",
    "\n",
    "def right_p_value(dist, criterion_value, *args):\n",
    "    return 1 - dist.cdf(criterion_value, *args)\n",
    "\n",
    "def two_sided_p_value(dist, criterion_value, *args):\n",
    "    left_p = left_p_value(dist, criterion_value, *args)\n",
    "    return 2 * min(left_p, 1 - left_p)"
   ]
  },
  {
   "cell_type": "code",
   "execution_count": 6,
   "metadata": {},
   "outputs": [
    {
     "name": "stdout",
     "output_type": "stream",
     "text": [
      "Значение z-test критерия: 0.768312868716326, критическое значение: 1.959963984540054\n",
      "Согласно критерию z-test гипотеза H0 принимается\n",
      "z-test p-value: 0.4423013311288566\n",
      "Согласно p-value критерию z-test гипотеза H0 принимается\n",
      "\n",
      "\n",
      "Значение t-test критерия: 4.035654007287049, критическое значение: 1.9842169515086827\n",
      "Согласно критерию t-test гипотеза H0 отклоняется\n",
      "t-test p-value: 0.00010735405572845308\n",
      "Согласно p-value критерию t-test гипотеза H0 отклоняется\n",
      "\n",
      "\n",
      "Значение x^2-test_m критерия: 96.21619729188062, критическое значение: 124.34211340400407\n",
      "Согласно критерию x^2-test_m гипотеза H0 принимается\n",
      "x^2-test_m p-value: 0.5885020318668222\n",
      "Согласно p-value критерию x^2-test_m гипотеза H0 принимается\n",
      "\n",
      "\n",
      "Значение x^2-test_no_m критерия: 95.9427044874098, критическое значение: 123.2252214533618\n",
      "Согласно критерию x^2-test_no_m гипотеза H0 принимается\n",
      "x^2-test_no_m p-value: 0.5682917321442519\n",
      "Согласно p-value критерию x^2-test_no_m гипотеза H0 принимается\n",
      "\n",
      "\n"
     ]
    }
   ],
   "source": [
    "alpha = 0.05 # задаёмся уровнем значимости\n",
    "# z-test\n",
    "name = 'z-test'\n",
    "criterion_value = criterion_z_test(x1) # значение статистики критерия для гипотезы H0: m = m0, сигма известна\n",
    "norm_quantile = z_test_dist.ppf(1 - alpha / 2, 0, 1)  # рассчитываем квантиль стандартоного нормального распределения\n",
    "critical_value = norm_quantile\n",
    "print(\"Значение {} критерия: {}, критическое значение: {}\".format(name, abs(criterion_value), critical_value))\n",
    "is_h0_true = abs(criterion_value) < critical_value\n",
    "print(f\"Согласно критерию {name} \" + (\"гипотеза H0 принимается\" if is_h0_true else \"гипотеза H0 отклоняется\"))\n",
    "p_value = two_sided_p_value(z_test_dist, criterion_value, 0, 1)\n",
    "print(\"{} p-value: {}\".format(name, p_value))\n",
    "is_h0_true = p_value > alpha\n",
    "print(f\"Согласно p-value критерию {name} \" + (\"гипотеза H0 принимается\" if is_h0_true else \"гипотеза H0 отклоняется\"))\n",
    "print('\\n')\n",
    "\n",
    "\n",
    "\n",
    "\n",
    "name = 't-test'\n",
    "criterion_value = criterion_t_test(x1) # значение статистики критерия для гипотезы H0: m = m0, сигма неизвестна\n",
    "student_quantile = t_test_dist.ppf(1 - alpha / 2, n1 - 1)  # рассчитываем квантиль распределения Стьюдента\n",
    "critical_value = student_quantile\n",
    "print(\"Значение {} критерия: {}, критическое значение: {}\".format(name, abs(criterion_value), critical_value))\n",
    "is_h0_true = abs(criterion_value) < critical_value\n",
    "print(f\"Согласно критерию {name} \" + (\"гипотеза H0 принимается\" if is_h0_true else \"гипотеза H0 отклоняется\"))\n",
    "p_value = two_sided_p_value(t_test_dist, criterion_value, n1 - 1)\n",
    "print(\"{} p-value: {}\".format(name, p_value))\n",
    "is_h0_true = p_value > alpha\n",
    "print(f\"Согласно p-value критерию {name} \" + (\"гипотеза H0 принимается\" if is_h0_true else \"гипотеза H0 отклоняется\"))\n",
    "print('\\n')\n",
    "\n",
    "\n",
    "\n",
    "name = 'x^2-test_m'\n",
    "criterion_value = criterion_chi2_m(x1) # значение статистики критерия для гипотезы H0: s = s0, m известно\n",
    "chi2_quantile = chi2_test_dist.ppf(1 - alpha, n1)  # рассчитываем квантиль хи-квадрат(n1)\n",
    "critical_value = chi2_quantile\n",
    "print(\"Значение {} критерия: {}, критическое значение: {}\".format(name, abs(criterion_value), critical_value))\n",
    "is_h0_true = criterion_value < critical_value\n",
    "print(f\"Согласно критерию {name} \" + (\"гипотеза H0 принимается\" if is_h0_true else \"гипотеза H0 отклоняется\"))\n",
    "p_value = right_p_value(chi2_test_dist, criterion_value, n1)\n",
    "print(\"{} p-value: {}\".format(name, p_value))\n",
    "is_h0_true = p_value > alpha\n",
    "print(f\"Согласно p-value критерию {name} \" + (\"гипотеза H0 принимается\" if is_h0_true else \"гипотеза H0 отклоняется\"))\n",
    "print('\\n')\n",
    "\n",
    "\n",
    "\n",
    "\n",
    "name = 'x^2-test_no_m'\n",
    "criterion_value = criterion_chi2_no_m(x1) # значение статистики критерия для гипотезы H0: s = s0, m неизвестно\n",
    "chi2_quantile = chi2_test_dist.ppf(1 - alpha, n1 - 1)  # рассчитываем квантиль хи-квадрат(n1 - 1)\n",
    "critical_value = chi2_quantile\n",
    "print(\"Значение {} критерия: {}, критическое значение: {}\".format(name, abs(criterion_value), critical_value))\n",
    "is_h0_true = criterion_value < critical_value\n",
    "print(f\"Согласно критерию {name} \" + (\"гипотеза H0 принимается\" if is_h0_true else \"гипотеза H0 отклоняется\"))\n",
    "p_value = right_p_value(chi2_test_dist, criterion_value, n1 - 1)\n",
    "print(\"{} p-value: {}\".format(name, p_value))\n",
    "is_h0_true = p_value > alpha\n",
    "print(f\"Согласно p-value критерию {name} \" + (\"гипотеза H0 принимается\" if is_h0_true else \"гипотеза H0 отклоняется\"))\n",
    "print('\\n')"
   ]
  },
  {
   "cell_type": "markdown",
   "metadata": {},
   "source": [
    "## 3. Критерии для двух выборок\n",
    "\n",
    "**Необходимо**:\n",
    "\n",
    "Выполнить задания пункта 2 для СВ $X_1$ и $X_2$ и следующих тестов:\n",
    "\n",
    "1. 2-sample t-test $H_0: M[X_1] = M[X_2]$\n",
    "2. 2-sample F-test (m известно) $H_0: D[X_1] = D[X_2]$\n",
    "3. 2-sample F-test (m неизвестно) $H_0: D[X_1] = D[X_2]$"
   ]
  },
  {
   "cell_type": "code",
   "execution_count": 7,
   "metadata": {},
   "outputs": [],
   "source": [
    "def criterion_t2_test(sample1, sample2):\n",
    "    s1 = np.std(sample1)\n",
    "    s2 = np.std(sample2)\n",
    "    n1 = len(sample1)\n",
    "    n2 = len(sample2)\n",
    "    S = (n1 - 1) * s1 * s1 + (n2 - 1) * s2 * s2\n",
    "    S /= n1 + n2 - 2\n",
    "    \n",
    "    m1 = np.mean(sample1)\n",
    "    m2 = np.mean(sample2)\n",
    "    z = (m1 - m2) / S\n",
    "    z /= np.sqrt(1.0 / n1 + 1.0 / n2)\n",
    "    return z\n",
    "\n",
    "def criterion_f_test_m(sample1, sample2):\n",
    "    m1 = m2 = 15\n",
    "    return s_0_2(sample1, m1)/s_0_2(sample2, m2)\n",
    "\n",
    "def criterion_f_test_no_m(sample1, sample2):\n",
    "    n1 = len(sample1)\n",
    "    n2 = len(sample2)\n",
    "    var1 = np.var(sample1)\n",
    "    var2 = np.var(sample2)\n",
    "    return var1 / var2\n",
    "\n",
    "t2_test_dist = stats.t\n",
    "f_test_m = stats.f\n",
    "f_test_no_m = stats.f"
   ]
  },
  {
   "cell_type": "code",
   "execution_count": 8,
   "metadata": {},
   "outputs": [
    {
     "name": "stdout",
     "output_type": "stream",
     "text": [
      "Значение 2-sample t-test критерия: 0.2245717156151829, критическое значение: 1.9720174778338955\n",
      "Согласно критерию 2-sample t-test гипотеза H0 принимается\n",
      "2-sample t-test p-value: 0.8225440502842312\n",
      "Согласно p-value критерию 2-sample t-test гипотеза H0 принимается\n",
      "\n",
      "\n",
      "Значение 2-sample F-test (m известно) критерия: 0.8462750603751412, критическое значение: 1.3917195516552203\n",
      "Согласно критерию 2-sample F-test (m известно) гипотеза H0 принимается\n",
      "2-sample F-test (m известно) p-value: 0.7972924980125038\n",
      "Согласно p-value критерию 2-sample F-test (m известно) гипотеза H0 принимается\n",
      "\n",
      "\n",
      "Значение 2-sample F-test (m неизвестно) критерия: 0.8386883660791232, критическое значение: 1.3917195516552203\n",
      "Согласно критерию 2-sample F-test (m неизвестно) гипотеза H0 принимается\n",
      "2-sample F-test (m неизвестно) p-value: 0.809708050934801\n",
      "Согласно p-value критерию 2-sample F-test (m неизвестно) гипотеза H0 принимается\n",
      "\n",
      "\n"
     ]
    }
   ],
   "source": [
    "name = '2-sample t-test'\n",
    "criterion_value = criterion_t2_test(x1, x2)\n",
    "student_quantile = t2_test_dist.ppf(1 - alpha / 2, len(x1) + len(x2) - 2)\n",
    "critical_value = student_quantile\n",
    "print(\"Значение {} критерия: {}, критическое значение: {}\".format(name, abs(criterion_value), critical_value))\n",
    "is_h0_true = abs(criterion_value) < critical_value\n",
    "print(f\"Согласно критерию {name} \" + (\"гипотеза H0 принимается\" if is_h0_true else \"гипотеза H0 отклоняется\"))\n",
    "p_value = two_sided_p_value(t2_test_dist, criterion_value, len(x1) + len(x2) - 2)\n",
    "print(\"{} p-value: {}\".format(name, p_value))\n",
    "is_h0_true = p_value > alpha\n",
    "print(f\"Согласно p-value критерию {name} \" + (\"гипотеза H0 принимается\" if is_h0_true else \"гипотеза H0 отклоняется\"))\n",
    "print('\\n')\n",
    "\n",
    "\n",
    "\n",
    "name = '2-sample F-test (m известно)'\n",
    "criterion_value = criterion_f_test_m(x1, x2)\n",
    "fisher_quantile = f_test_m.ppf(1 - alpha, len(x1), len(x2))  # рассчитываем квантиль стандартоного нормального распределения\n",
    "critical_value = fisher_quantile\n",
    "print(\"Значение {} критерия: {}, критическое значение: {}\".format(name, criterion_value, critical_value))\n",
    "is_h0_true = criterion_value < critical_value\n",
    "print(f\"Согласно критерию {name} \" + (\"гипотеза H0 принимается\" if is_h0_true else \"гипотеза H0 отклоняется\"))\n",
    "p_value = right_p_value(f_test_m, criterion_value, len(x1), len(x2))\n",
    "print(\"{} p-value: {}\".format(name, p_value))\n",
    "is_h0_true = p_value > alpha\n",
    "print(f\"Согласно p-value критерию {name} \" + (\"гипотеза H0 принимается\" if is_h0_true else \"гипотеза H0 отклоняется\"))\n",
    "print('\\n')\n",
    "\n",
    "\n",
    "name = '2-sample F-test (m неизвестно)'\n",
    "criterion_value = criterion_f_test_no_m(x1, x2)\n",
    "fisher_quantile = f_test_no_m.ppf(1 - alpha, len(x1), len(x2))  # рассчитываем квантиль стандартоного нормального распределения\n",
    "critical_value = fisher_quantile\n",
    "print(\"Значение {} критерия: {}, критическое значение: {}\".format(name, abs(criterion_value), critical_value))\n",
    "is_h0_true = criterion_value < critical_value\n",
    "print(f\"Согласно критерию {name} \" + (\"гипотеза H0 принимается\" if is_h0_true else \"гипотеза H0 отклоняется\"))\n",
    "p_value = right_p_value(f_test_no_m, criterion_value, len(x1), len(x2))\n",
    "print(\"{} p-value: {}\".format(name, p_value))\n",
    "is_h0_true = p_value > alpha\n",
    "print(f\"Согласно p-value критерию {name} \" + (\"гипотеза H0 принимается\" if is_h0_true else \"гипотеза H0 отклоняется\"))\n",
    "print('\\n')"
   ]
  },
  {
   "cell_type": "markdown",
   "metadata": {},
   "source": [
    "## 4. Выборочные характеристики для Z и P-value\n",
    "\n",
    "**Необходимо**: Вычислить для выборки мощностью $N$ выборочные значения для случайных величин, p-value и значения статистики критерия. Гипотеза $H_0$ задаётся вариантом лабораторной работы.\n",
    "\n",
    "$H_0: \\sigma^2 = 30$"
   ]
  },
  {
   "cell_type": "code",
   "execution_count": 9,
   "metadata": {},
   "outputs": [],
   "source": [
    "def criterion_chi2_no_m(sample):\n",
    "    sigma0_2 = 30\n",
    "    n = len(sample)\n",
    "    return n * np.var(sample) / sigma0_2"
   ]
  },
  {
   "cell_type": "code",
   "execution_count": 19,
   "metadata": {},
   "outputs": [
    {
     "name": "stdout",
     "output_type": "stream",
     "text": [
      "Критерий:\n",
      "среднее = 98.83367701263347, s^2 = 275.96579860579175, s = 16.61221835294106\n",
      "P-value:\n",
      "среднее = 0.4883371024421337, s^2 = 0.09798638105921735, s = 0.3130277640389385\n"
     ]
    }
   ],
   "source": [
    "N = 500\n",
    "\n",
    "criteria = []\n",
    "p_values = []\n",
    "\n",
    "criterion_dist = t_test_dist\n",
    "\n",
    "for i in range(0, N):\n",
    "    sample = gen_x1()\n",
    "    \n",
    "    criterion_value = criterion_chi2_no_m(sample)\n",
    "    criteria.append(criterion_value)\n",
    "    \n",
    "    p_value_left = chi2_test_dist.cdf(criterion_value, n1 - 1)\n",
    "    p_values.append(p_value_left)\n",
    "\n",
    "print(\"Критерий:\")\n",
    "print(\"среднее = {}, s^2 = {}, s = {}\".format(np.mean(criteria), np.var(criteria), np.std(criteria)))\n",
    "\n",
    "print(\"P-value:\")\n",
    "print(\"среднее = {}, s^2 = {}, s = {}\".format(np.mean(p_values), np.var(p_values), np.std(p_values)))"
   ]
  },
  {
   "cell_type": "markdown",
   "metadata": {},
   "source": [
    "### Графики\n",
    "\n",
    "**Графики** теоретических распределений и гистограммы эспериментальных значений для статистики критерия и p-value:"
   ]
  },
  {
   "cell_type": "code",
   "execution_count": 11,
   "metadata": {},
   "outputs": [
    {
     "name": "stderr",
     "output_type": "stream",
     "text": [
      "E:\\Anaconda3\\lib\\site-packages\\matplotlib\\axes\\_axes.py:6521: MatplotlibDeprecationWarning: \n",
      "The 'normed' kwarg was deprecated in Matplotlib 2.1 and will be removed in 3.1. Use 'density' instead.\n",
      "  alternative=\"'density'\", removal=\"3.1\")\n"
     ]
    },
    {
     "data": {
      "image/png": "[encoded data removed]",
      "text/plain": [
       "<Figure size 432x288 with 1 Axes>"
      ]
     },
     "metadata": {
      "needs_background": "light"
     },
     "output_type": "display_data"
    }
   ],
   "source": [
    "fig, ax = plt.subplots()\n",
    "\n",
    "# histogram\n",
    "n, bins, patches = ax.hist(criteria, 20, normed=True)\n",
    "\n",
    "# plot\n",
    "x = np.linspace(chi2_test_dist.ppf(0.05, n2 - 1), chi2_test_dist.ppf(0.95, n2 - 1), 100)\n",
    "ax.plot(x, chi2_test_dist.pdf(x, n2 - 1), 'r-', lw=5, alpha=0.6, label='Theoretical')\n",
    "\n",
    "ax.set_title(\"Статистика критерия\")\n",
    "ax.set_ylabel(\"Плотность вероятности\")\n",
    "\n",
    "fig.tight_layout()\n",
    "plt.show()"
   ]
  },
  {
   "cell_type": "code",
   "execution_count": 12,
   "metadata": {},
   "outputs": [
    {
     "data": {
      "image/png": "[encoded data removed]",
      "text/plain": [
       "<Figure size 432x288 with 1 Axes>"
      ]
     },
     "metadata": {
      "needs_background": "light"
     },
     "output_type": "display_data"
    }
   ],
   "source": [
    "fig, ax = plt.subplots()\n",
    "\n",
    "# histogram\n",
    "n, bins, patches = ax.hist(p_values, 20, normed=True)\n",
    "\n",
    "# plot\n",
    "x = np.linspace(stats.uniform.ppf(0.01), stats.uniform.ppf(0.99), 100)\n",
    "ax.plot(x, stats.uniform.pdf(x), 'r-', lw=5, alpha=0.6, label='Theoretical')\n",
    "\n",
    "ax.set_title(\"P-values\")\n",
    "ax.set_ylabel(\"Плотность вероятности\")\n",
    "\n",
    "fig.tight_layout()\n",
    "plt.show()"
   ]
  },
  {
   "cell_type": "code",
   "execution_count": null,
   "metadata": {},
   "outputs": [],
   "source": []
  }
 ],
 "metadata": {
  "kernelspec": {
   "display_name": "Python 3",
   "language": "python",
   "name": "python3"
  },
  "language_info": {
   "codemirror_mode": {
    "name": "ipython",
    "version": 3
   },
   "file_extension": ".py",
   "mimetype": "text/x-python",
   "name": "python",
   "nbconvert_exporter": "python",
   "pygments_lexer": "ipython3",
   "version": "3.7.3"
  }
 },
 "nbformat": 4,
 "nbformat_minor": 2
}
