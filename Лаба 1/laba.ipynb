{
 "cells": [
  {
   "cell_type": "markdown",
   "metadata": {},
   "source": [
    "# Лабораторная №1. Проверка статистических гипотез\n",
    "\n",
    "> Вариант № ??\n",
    "\n",
    "**Распределения**:\n",
    "\n",
    "$X_1$ ~ X^2(2) (объём выборки $n_1$ = 150)\n",
    "\n",
    "$X_2$ ~ N(3,1) (объём выборки $n_2$ = 150)\n",
    "\n",
    "---\n"
   ]
  },
  {
   "cell_type": "markdown",
   "metadata": {},
   "source": [
    "*Импорт необходимых библиотек:*"
   ]
  },
  {
   "cell_type": "code",
   "execution_count": 2,
   "metadata": {},
   "outputs": [],
   "source": [
    "%matplotlib inline\n",
    "import numpy as np\n",
    "from scipy import stats\n",
    "import matplotlib.pyplot as plt"
   ]
  },
  {
   "cell_type": "markdown",
   "metadata": {},
   "source": [
    "## Генерация выборок\n",
    "\n",
    "`x = np.random.<`*`distribution`*`>(`*`...params`*`, `*`size`*`)`, где\n",
    "\n",
    "- *distribution* - распределение;\n",
    "- *...params* - параметры распределения;\n",
    "- *size* - размер выборки\n",
    "\n",
    "Доступные распределения:\n",
    "\n",
    "- нормальное: normal(m, $\\sigma^2$)\n",
    "- равномерное: uniform(a, b)\n",
    "- хи-квадрат: chisquare(k)\n"
   ]
  },
  {
   "cell_type": "code",
   "execution_count": 3,
   "metadata": {},
   "outputs": [],
   "source": [
    "# Размеры выборок\n",
    "n1 = 300\n",
    "n2 = 100\n",
    "\n",
    "# Функции для получения выборок\n",
    "def gen_x1():\n",
    "    return np.random.uniform(5, 15, n1)\n",
    "\n",
    "def gen_x2():\n",
    "    return np.random.normal(10, 5, n2)\n",
    "\n",
    "# Конкретные выборки\n",
    "x1, x2 = gen_x1(), gen_x2()"
   ]
  },
  {
   "cell_type": "markdown",
   "metadata": {},
   "source": [
    "## 1. Выборочные характеристики\n",
    "\n",
    "**Необходимо**:\n",
    "\n",
    "1. Описать распределения $X_1$ и $X_2$, найти их МО и дисперсию, указать объём выборок\n",
    "\n",
    "2. Рассчитать выборочные характеристики: среднее, $s$, $s^2$\n",
    "\n",
    "3. Рассчитать выборочные характеристики для совокупной выборки $x_1$ + $x_2$\n"
   ]
  },
  {
   "cell_type": "code",
   "execution_count": 3,
   "metadata": {},
   "outputs": [
    {
     "name": "stdout",
     "output_type": "stream",
     "text": [
      "Среднее 9.930647783780836, s=2.8701907196296315, s^2=8.237994767048061\n",
      "Среднее 8.881808688247647, s=4.898207919135176, s^2=23.992440819078556\n",
      "Среднее 9.668438009897537, s=3.518929976088679, s^2=12.382868176615473\n"
     ]
    }
   ],
   "source": [
    "# пример вызова функций\n",
    "def print_sample_chars(sample):\n",
    "    print(\"Среднее {}, s={}, s^2={}\".format(\n",
    "        np.mean(sample),\n",
    "        np.std(sample),\n",
    "        np.var(sample)\n",
    "    ))\n",
    "\n",
    "print_sample_chars(x1)\n",
    "print_sample_chars(x2)\n",
    "pooled = np.concatenate([x1, x2])\n",
    "print_sample_chars(pooled)"
   ]
  },
  {
   "cell_type": "markdown",
   "metadata": {},
   "source": [
    "**Указания**:\n",
    "\n",
    "- `np.mean` - среднее значение\n",
    "- `np.std` - $s$ - оценка с.к.о.\n",
    "- `np.var` - $s^2$ - оценка дисперсии"
   ]
  },
  {
   "cell_type": "markdown",
   "metadata": {},
   "source": [
    "## 2. Однопараметрические критерии\n",
    "\n",
    "**Необходимо**:\n",
    "\n",
    "Для СВ $X_1$ сформулировать гипотезы $H_0$, проверяемые следующими тестами:\n",
    "\n",
    "1. z-test\n",
    "2. t-test\n",
    "3. $\\chi^2-test$ ($m$ известно)\n",
    "4. $\\chi^2-test$ ($m$ неизвестно)\n",
    "\n",
    "Для каждой гипотезы рассчитать выборочное значение статистики критерия, p-value, выбрать уровень значимости $\\alpha$ и рассчитать ошибку статистического решения."
   ]
  },
  {
   "cell_type": "markdown",
   "metadata": {},
   "source": [
    "**Указания**:\n",
    "\n",
    "Для получения свойств стандартных распределений используем модуль `stats`:\n",
    "\n",
    "- для нормального распределения `stats.norm`;\n",
    "- для Стьюдента `stats.t`;\n",
    "- для хи-квадрат `stats.chi2`.\n",
    "\n",
    "Квантиль распределения: `stats.<distribution>.ppf(<уровень значимости>, ...<параметры распределения>)`\n",
    "\n",
    "Функция распределения: F(x) = `stats.<distribution>.cdf(x, ...<параметры распределения>)`\n",
    "\n",
    "Функция плотности вероятности: f(x) = `stats.<distribution>.pdf(x, ...<параметры распределения>)`"
   ]
  },
  {
   "cell_type": "code",
   "execution_count": 4,
   "metadata": {},
   "outputs": [],
   "source": [
    "z_test_dist = stats.norm\n",
    "t_test_dist = stats.t\n",
    "chi2_test_dist = stats.chi2\n",
    "chi2_test_f_dist = stats.f\n",
    "\n",
    "def conclusion(criterion_value,critical_value):\n",
    "    print(\"Значение критерия: {}, критическое значение: {}\".format(abs(criterion_value), critical_value))\n",
    "    is_h0_true = abs(criterion_value) < critical_value\n",
    "    print(\"Гипотеза H0 принимается\" if is_h0_true else \"Гипотеза H0 отклоняется\")\n",
    "def conclusion2(criterion_value,critical_value1,critical_value2):\n",
    "    print(\"Значение критерия: {}, критическое значение1: {}, критическое значение2: {}\".format((criterion_value), critical_value1, critical_value2))\n",
    "    is_h0_true = critical_value1<criterion_value<critical_value2 \n",
    "    print(\"Гипотеза H0 принимается\" if is_h0_true else \"Гипотеза H0 отклоняется\")"
   ]
  },
  {
   "cell_type": "markdown",
   "metadata": {},
   "source": [
    "1) $H_0: X_1 \\sim N(m_0 = 2, \\sigma^2)$  $\\alpha = 0.05$ ($\\sigma$ считаем известным):"
   ]
  },
  {
   "cell_type": "code",
   "execution_count": 5,
   "metadata": {},
   "outputs": [],
   "source": [
    "def criterion_z_test(sample):\n",
    "    m0 = 10\n",
    "    sigma = 5\n",
    "    mean = np.mean(sample)\n",
    "    n = len(sample)\n",
    "    return (mean - m0) / sigma * np.sqrt(n)\n",
    "z_test_dist = stats.norm\n",
    "alpha = 0.05"
   ]
  },
  {
   "cell_type": "code",
   "execution_count": 29,
   "metadata": {},
   "outputs": [
    {
     "name": "stdout",
     "output_type": "stream",
     "text": [
      "Двустороннее p-value: 0.6153045510060768\n"
     ]
    }
   ],
   "source": [
    "def left_p_value(dist, criterion_value,m, sigma):\n",
    "    return dist.cdf(criterion_value, m, sigma)\n",
    "\n",
    "def right_p_value(dist, criterion_value,m, sigma):\n",
    "    return 1 - dist.cdf(criterion_value, m, sigma)\n",
    "\n",
    "def two_sided_p_value(dist, criterion_value, m, sigma):\n",
    "    left_p = left_p_value(dist, criterion_value, m, sigma)\n",
    "    return 2 * min(left_p, 1 - left_p)\n",
    "\n",
    "print(\"Двустороннее p-value: {}\".format( two_sided_p_value(z_test_dist, criterion_value,0, 1) ))"
   ]
  },
  {
   "cell_type": "code",
   "execution_count": 8,
   "metadata": {},
   "outputs": [
    {
     "name": "stdout",
     "output_type": "stream",
     "text": [
      "Значение критерия: 0.240243124218188, критическое значение: 1.959963984540054\n",
      "Гипотеза H0 принимается\n"
     ]
    }
   ],
   "source": [
    "criterion_value = criterion_z_test(x1)\n",
    "critical_value = z_test_dist.ppf(1 - alpha / 2, 0, 1)\n",
    "conclusion (criterion_value,critical_value)"
   ]
  },
  {
   "cell_type": "markdown",
   "metadata": {},
   "source": [
    "2) $H_0: X_1 \\sim N(m_0 = 2, \\sigma^2)$  $\\alpha = 0.05$ ($\\sigma$ считаем неизвестным):"
   ]
  },
  {
   "cell_type": "code",
   "execution_count": 9,
   "metadata": {},
   "outputs": [
    {
     "name": "stdout",
     "output_type": "stream",
     "text": [
      "Значение критерия: 0.41851421679948314, критическое значение: 1.9679296690653618\n",
      "Гипотеза H0 принимается\n"
     ]
    }
   ],
   "source": [
    "def criterion_t_test(sample):\n",
    "    s = np.std(sample) # s - оценка с.к.о.\n",
    "    mean = np.mean(sample) # выборочное среднее\n",
    "    m0 = 10\n",
    "    return (mean - m0) / s * np.sqrt(len(sample))\n",
    "t_test_dist = stats.t\n",
    "criterion_value = criterion_t_test(x1) # значение статистики критерия для гипотезы H0: m = m0, сигма неизвестна\n",
    "\n",
    "alpha = 0.05 # задаёмся уровнем значимости\n",
    "student_quantile = t_test_dist.ppf(1 - alpha / 2, n1 - 1) # рассчитываем квантиль распределения Стьюдента\n",
    "\n",
    "critical_value = student_quantile \n",
    "conclusion (criterion_value,critical_value)\n"
   ]
  },
  {
   "cell_type": "code",
   "execution_count": 10,
   "metadata": {},
   "outputs": [
    {
     "name": "stdout",
     "output_type": "stream",
     "text": [
      "Двустороннее p-value: 0.6758716422022271\n"
     ]
    }
   ],
   "source": [
    "\n",
    "def left_p_value(dist, criterion_value, sample_size):\n",
    "    return dist.cdf(criterion_value, sample_size - 1)\n",
    "\n",
    "def right_p_value(dist, criterion_value, sample_size):\n",
    "    return 1 - dist.cdf(criterion_value, sample_size - 1)\n",
    "\n",
    "def two_sided_p_value(dist, criterion_value, sample_size):\n",
    "    left_p = left_p_value(dist, criterion_value, sample_size)\n",
    "    return 2 * min(left_p, 1 - left_p)\n",
    "\n",
    "print(\"Двустороннее p-value: {}\".format( two_sided_p_value(t_test_dist, criterion_value, n1) ))"
   ]
  },
  {
   "cell_type": "markdown",
   "metadata": {},
   "source": [
    "3)"
   ]
  },
  {
   "cell_type": "code",
   "execution_count": 11,
   "metadata": {},
   "outputs": [],
   "source": [
    "def criterion_chi2_m(sample):\n",
    "    sigma0 = 5\n",
    "    m = 10\n",
    "    s0 = 0\n",
    "    for i in range (0,149):\n",
    "        s0 +=float((sample[i]-m)**2)\n",
    "    s0=s0/n1\n",
    "    return float(n1*s0/sigma0**2)\n",
    "chi2_test_dist = stats.chi2"
   ]
  },
  {
   "cell_type": "code",
   "execution_count": 12,
   "metadata": {},
   "outputs": [
    {
     "name": "stdout",
     "output_type": "stream",
     "text": [
      "Значение критерия: 46.83063456454985, критическое значение1: 253.91232260248975, критическое значение2: 349.87446882991526\n",
      "Гипотеза H0 отклоняется\n"
     ]
    }
   ],
   "source": [
    "criterion_value = criterion_chi2_m(x1) \n",
    "alpha = 0.05\n",
    "critical_value1 = chi2_test_dist.ppf(alpha/2, n1)\n",
    "critical_value2 = chi2_test_dist.ppf(1-alpha/2, n1)\n",
    "critical_value = student_quantile \n",
    "\n",
    "conclusion2 (criterion_value,min(critical_value1,critical_value2),max(critical_value1,critical_value2))"
   ]
  },
  {
   "cell_type": "code",
   "execution_count": 13,
   "metadata": {},
   "outputs": [
    {
     "name": "stdout",
     "output_type": "stream",
     "text": [
      "Двустороннее p-value: 7.465918064863141e-68\n"
     ]
    }
   ],
   "source": [
    "\n",
    "def left_p_value(dist, criterion_value, sample_size):\n",
    "    return dist.cdf(criterion_value, sample_size )\n",
    "\n",
    "def right_p_value(dist, criterion_value, sample_size):\n",
    "    return 1 - dist.cdf(criterion_value, sample_size )\n",
    "\n",
    "def two_sided_p_value(dist, criterion_value, sample_size):\n",
    "    left_p = left_p_value(dist, criterion_value, sample_size)\n",
    "    return 2 * min(left_p, 1 - left_p)\n",
    "\n",
    "print(\"Двустороннее p-value: {}\".format( two_sided_p_value(chi2_test_dist, criterion_value, n1) ))"
   ]
  },
  {
   "cell_type": "markdown",
   "metadata": {},
   "source": [
    "4)"
   ]
  },
  {
   "cell_type": "code",
   "execution_count": 14,
   "metadata": {},
   "outputs": [],
   "source": [
    "def criterion_chi2_no_m(sample):\n",
    "    #sigma0 = 1.943\n",
    "    sigma0 = 2.4\n",
    "    m = np.mean(sample)\n",
    "    s = 0\n",
    "    for i in range (0,149):\n",
    "        s +=float((sample[i]-m)**2)\n",
    "    s=s/(n1-1)\n",
    "    return float((n1-1)*s/sigma0**2)\n",
    "chi2_test_dist = stats.chi2"
   ]
  },
  {
   "cell_type": "code",
   "execution_count": 15,
   "metadata": {},
   "outputs": [
    {
     "name": "stdout",
     "output_type": "stream",
     "text": [
      "Значение критерия: 202.12574268607335, критическое значение1: 253.91232260248975, критическое значение2: 349.87446882991526\n",
      "Гипотеза H0 отклоняется\n"
     ]
    }
   ],
   "source": [
    "criterion_value = criterion_chi2_no_m(x1) \n",
    "alpha = 0.05\n",
    "critical_value1 = chi2_test_dist.ppf(alpha/2, n1)\n",
    "critical_value2 = chi2_test_dist.ppf(1-alpha/2, n1)\n",
    "\n",
    "conclusion2 (criterion_value,min(critical_value1,critical_value2),max(critical_value1,critical_value2))"
   ]
  },
  {
   "cell_type": "code",
   "execution_count": 16,
   "metadata": {},
   "outputs": [
    {
     "name": "stdout",
     "output_type": "stream",
     "text": [
      "Двустороннее p-value: 7.955380925260562e-06\n"
     ]
    }
   ],
   "source": [
    "\n",
    "def left_p_value(dist, criterion_value, sample_size):\n",
    "    return dist.cdf(criterion_value, sample_size - 1)\n",
    "\n",
    "def right_p_value(dist, criterion_value, sample_size):\n",
    "    return 1 - dist.cdf(criterion_value, sample_size - 1)\n",
    "\n",
    "def two_sided_p_value(dist, criterion_value, sample_size):\n",
    "    left_p = left_p_value(dist, criterion_value, sample_size)\n",
    "    return 2 * min(left_p, 1 - left_p)\n",
    "\n",
    "print(\"Двустороннее p-value: {}\".format( two_sided_p_value(chi2_test_dist, criterion_value, n1) ))"
   ]
  },
  {
   "cell_type": "markdown",
   "metadata": {},
   "source": [
    "## 3. Критерии для двух выборок\n",
    "\n",
    "**Необходимо**:\n",
    "\n",
    "Выполнить задания пункта 2 для СВ $X_1$ и $X_2$ и следующих тестов:\n",
    "\n",
    "1. 2-sample t-test\n",
    "2. 2-sample F-test (m известно)\n",
    "3. 2-sample F-test (m неизвестно)"
   ]
  },
  {
   "cell_type": "code",
   "execution_count": 17,
   "metadata": {},
   "outputs": [],
   "source": [
    "def criterion_t2_test(sample1, sample2):\n",
    "    s1 = np.std(sample1)\n",
    "    s2 = np.std(sample2)\n",
    "    n1 = len(sample1)\n",
    "    n2 = len(sample2)\n",
    "    S = (n1 - 1) * s1 * s1 + (n2 - 1) * s2 * s2\n",
    "    S /= n1 + n2 - 2\n",
    "    \n",
    "    m1 = np.mean(sample1)\n",
    "    m2 = np.mean(sample2)\n",
    "    z = (m1 - m2) / S\n",
    "    z /= np.sqrt(1.0 / n1 + 1.0 / n2)\n",
    "    return z\n",
    "\n",
    "def criterion_f_test_m(sample1, sample2):\n",
    "    S01=0\n",
    "    S02=0\n",
    "    m1=2\n",
    "    m2=3\n",
    "    for i in range (0,149):\n",
    "        S01 +=float((sample1[i]-m1)**2)\n",
    "    S01=S01/n1\n",
    "    for i in range (0,99):\n",
    "        S02 +=float((sample2[i]-m2)**2)\n",
    "    S02=S02/n2\n",
    "    return S01/S02\n",
    "\n",
    "def criterion_f_test_no_m(sample1, sample2):\n",
    "    S1=0\n",
    "    S2=0\n",
    "    m1=np.mean(x1)\n",
    "    m2=np.mean(x2)\n",
    "    for i in range (0,99):\n",
    "        S1 +=float((sample1[i]-m1)**2)\n",
    "    S1=S1/n1\n",
    "    for i in range (0,99):\n",
    "        S2 +=float((sample2[i]-m2)**2)\n",
    "    S2=S2/n2\n",
    "    return S1/S2"
   ]
  },
  {
   "cell_type": "code",
   "execution_count": 18,
   "metadata": {},
   "outputs": [
    {
     "name": "stdout",
     "output_type": "stream",
     "text": [
      "Значение критерия: 0.7471705017516135, критическое значение: 1.9679296690653618\n",
      "Гипотеза H0 принимается\n",
      "Двустороннее p-value: 0.4554018263368489\n"
     ]
    }
   ],
   "source": [
    "criterion_value = criterion_t2_test(x1,x2) \n",
    "\n",
    "alpha = 0.05 # задаёмся уровнем значимости\n",
    "student_quantile = t_test_dist.ppf(1 - alpha / 2, n1 - 1) \n",
    "\n",
    "critical_value = student_quantile \n",
    "conclusion (criterion_value,critical_value)\n",
    "\n",
    "\n",
    "def left_p_value(dist, criterion_value, sample_size):\n",
    "    return dist.cdf(criterion_value, sample_size)\n",
    "\n",
    "def right_p_value(dist, criterion_value, sample_size):\n",
    "    return 1 - dist.cdf(criterion_value, sample_size)\n",
    "\n",
    "def two_sided_p_value(dist, criterion_value, sample_size):\n",
    "    left_p = left_p_value(dist, criterion_value, sample_size)\n",
    "    return 2 * min(left_p, 1 - left_p)\n",
    "\n",
    "print(\"Двустороннее p-value: {}\".format( two_sided_p_value(t_test_dist, criterion_value, n1+n2-2) ))"
   ]
  },
  {
   "cell_type": "code",
   "execution_count": 19,
   "metadata": {},
   "outputs": [
    {
     "name": "stdout",
     "output_type": "stream",
     "text": [
      "Значение критерия: 0.5746432963216378, критическое значение1: 0.7345943653654328, критическое значение2: 1.3973356658286613\n",
      "Гипотеза H0 отклоняется\n",
      "Двустороннее p-value: 0.0003713301131073373\n"
     ]
    }
   ],
   "source": [
    "criterion_value = criterion_f_test_m(x1,x2)\n",
    "\n",
    "alpha = 0.05 # задаёмся уровнем значимости\n",
    "\n",
    "\n",
    "critical_value1 = chi2_test_f_dist.ppf(alpha/2, n1,n2)\n",
    "critical_value2 = chi2_test_f_dist.ppf(1-alpha/2, n1,n2)\n",
    "\n",
    "conclusion2 (criterion_value, min(critical_value1,critical_value2), max(critical_value1,critical_value2))\n",
    "\n",
    "\n",
    "def left_p_value(dist, criterion_value, sample_size,size2):\n",
    "    return dist.cdf(criterion_value, sample_size,size2)\n",
    "\n",
    "def right_p_value(dist, criterion_value, sample_size,size2):\n",
    "    return 1 - dist.cdf(criterion_value, sample_size,size2)\n",
    "\n",
    "def two_sided_p_value(dist, criterion_value, sample_size, size2):\n",
    "    left_p = left_p_value(dist, criterion_value, sample_size,size2)\n",
    "    return 2 * min(left_p, 1 - left_p)\n",
    "\n",
    "print(\"Двустороннее p-value: {}\".format( two_sided_p_value(chi2_test_f_dist, criterion_value, n1,n2) ))"
   ]
  },
  {
   "cell_type": "code",
   "execution_count": 20,
   "metadata": {},
   "outputs": [
    {
     "name": "stdout",
     "output_type": "stream",
     "text": [
      "Значение критерия: 0.11167952959304596, критическое значение1: 2.7345943653654325, критическое значение2: 3.3973356658286615\n",
      "Гипотеза H0 отклоняется\n",
      "Двустороннее p-value: 3.0613239945103175e-49\n"
     ]
    }
   ],
   "source": [
    "criterion_value = criterion_f_test_no_m(x1,x2)\n",
    "\n",
    "alpha = 0.05 # задаёмся уровнем значимости\n",
    "\n",
    "\n",
    "critical_value1 = chi2_test_f_dist.ppf(alpha/2, n1, n2, 2)\n",
    "critical_value2 = chi2_test_f_dist.ppf(1-alpha/2, n1, n2, 2)\n",
    "\n",
    "conclusion2 (criterion_value,min(critical_value1,critical_value2),max(critical_value1,critical_value2))\n",
    "\n",
    "\n",
    "def left_p_value(dist, criterion_value, sample_size,size2):\n",
    "    return dist.cdf(criterion_value, sample_size,size2)\n",
    "\n",
    "def right_p_value(dist, criterion_value, sample_size,size2):\n",
    "    return 1 - dist.cdf(criterion_value, sample_size,size2)\n",
    "\n",
    "def two_sided_p_value(dist, criterion_value, sample_size, size2):\n",
    "    left_p = left_p_value(dist, criterion_value, sample_size,size2)\n",
    "    return 2 * min(left_p, 1 - left_p)\n",
    "\n",
    "print(\"Двустороннее p-value: {}\".format( two_sided_p_value(chi2_test_f_dist, criterion_value, n1-1,n2-1) ))"
   ]
  },
  {
   "cell_type": "markdown",
   "metadata": {},
   "source": [
    "## 4. Выборочные характеристики для Z и P-value\n",
    "\n",
    "**Необходимо**: Вычислить для выборки мощностью $N$ выборочные значения для случайных величин p-value и значения статистики критерия. Гипотеза $H_0$ задаётся вариантом лабораторной работы."
   ]
  },
  {
   "cell_type": "markdown",
   "metadata": {},
   "source": [
    "$ H_0: m_1=2$"
   ]
  },
  {
   "cell_type": "code",
   "execution_count": 32,
   "metadata": {},
   "outputs": [
    {
     "name": "stdout",
     "output_type": "stream",
     "text": [
      "Критерий:\n",
      "среднее = 0.49651941848978304, s^2 = 0.003608976022802771, s = 0.06007475362248913\n",
      "P-value:\n",
      "среднее = nan, s^2 = nan, s = nan\n"
     ]
    }
   ],
   "source": [
    "N = 2000\n",
    "\n",
    "criteria = []\n",
    "p_values = []\n",
    "\n",
    "criterion_dist = stats.f\n",
    "for i in range(0, N):\n",
    "    sample1 = gen_x1()\n",
    "    sample2 = gen_x2()\n",
    "    \n",
    "    criterion_value = criterion_f_test_m(sample1, sample2)\n",
    "    criteria.append(criterion_value)\n",
    "    \n",
    "    p_value_left = criterion_dist.cdf(criterion_value, 0, 1)\n",
    "    p_value_right = 1 - p_value_left\n",
    "    p_value_two_sided = 2 * min(p_value_left, p_value_right)\n",
    "    p_values.append(p_value_two_sided)\n",
    "\n",
    "print(\"Критерий:\")\n",
    "print(\"среднее = {}, s^2 = {}, s = {}\".format(np.mean(criteria), np.var(criteria), np.std(criteria)))\n",
    "\n",
    "print(\"P-value:\")\n",
    "print(\"среднее = {}, s^2 = {}, s = {}\".format(np.mean(p_values), np.var(p_values), np.std(p_values)))"
   ]
  },
  {
   "cell_type": "markdown",
   "metadata": {},
   "source": [
    "### Графики\n",
    "\n",
    "**Графики** теоретических распределений и гистограммы эспериментальных значений для статистики критерия и p-value:"
   ]
  },
  {
   "cell_type": "code",
   "execution_count": 33,
   "metadata": {},
   "outputs": [
    {
     "data": {
      "image/png": "[encoded data removed]",
      "text/plain": [
       "<Figure size 432x288 with 1 Axes>"
      ]
     },
     "metadata": {
      "needs_background": "light"
     },
     "output_type": "display_data"
    }
   ],
   "source": [
    "fig, ax = plt.subplots()\n",
    "\n",
    "# histogram\n",
    "n, bins, patches = ax.hist(criteria, 10, density=True)\n",
    "\n",
    "# plot\n",
    "# x = np.linspace(criterion_dist.ppf(0.005, 0.05, 0.1), criterion_dist.ppf(0.995, 0.05, 0.1), 100)\n",
    "x = np.linspace(criterion_dist.ppf(0.05, len(sample1), len(sample2)), criterion_dist.ppf(0.95, len(sample1), len(sample2)), 100)\n",
    "ax.plot(x, criterion_dist.pdf(x, len(sample1), len(sample2)), 'r-', lw=3, alpha=0.7, label=\"Theoretical\")\n",
    "\n",
    "ax.set_title(\"Статистика критерия\")\n",
    "ax.set_ylabel(\"Плотность вероятности\")\n",
    "\n",
    "fig.tight_layout()\n",
    "plt.show()"
   ]
  },
  {
   "cell_type": "code",
   "execution_count": 25,
   "metadata": {},
   "outputs": [
    {
     "name": "stderr",
     "output_type": "stream",
     "text": [
      "E:\\Anaconda3\\lib\\site-packages\\matplotlib\\axes\\_axes.py:6521: MatplotlibDeprecationWarning: \n",
      "The 'normed' kwarg was deprecated in Matplotlib 2.1 and will be removed in 3.1. Use 'density' instead.\n",
      "  alternative=\"'density'\", removal=\"3.1\")\n"
     ]
    },
    {
     "data": {
      "image/png": "[encoded data removed]",
      "text/plain": [
       "<Figure size 432x288 with 1 Axes>"
      ]
     },
     "metadata": {
      "needs_background": "light"
     },
     "output_type": "display_data"
    }
   ],
   "source": [
    "fig, ax = plt.subplots()\n",
    "\n",
    "# histogram\n",
    "n, bins, patches = ax.hist(p_values, 10, normed=True)\n",
    "\n",
    "# plot\n",
    "x = np.linspace(stats.uniform.ppf(0.01), stats.uniform.ppf(0.99), 100)\n",
    "ax.plot(x, stats.uniform.pdf(x), 'r-', lw=5, alpha=0.6, label='Theoretical')\n",
    "\n",
    "ax.set_title(\"P-values\")\n",
    "ax.set_ylabel(\"Плотность вероятности\")\n",
    "\n",
    "fig.tight_layout()\n",
    "plt.show()"
   ]
  },
  {
   "cell_type": "code",
   "execution_count": null,
   "metadata": {},
   "outputs": [],
   "source": []
  }
 ],
 "metadata": {
  "kernelspec": {
   "display_name": "Python 3",
   "language": "python",
   "name": "python3"
  },
  "language_info": {
   "codemirror_mode": {
    "name": "ipython",
    "version": 3
   },
   "file_extension": ".py",
   "mimetype": "text/x-python",
   "name": "python",
   "nbconvert_exporter": "python",
   "pygments_lexer": "ipython3",
   "version": "3.7.3"
  }
 },
 "nbformat": 4,
 "nbformat_minor": 2
}
