{
 "cells": [
  {
   "cell_type": "code",
   "execution_count": 1,
   "metadata": {},
   "outputs": [
    {
     "data": {
      "text/html": [
       "<style>table.htable td,\n",
       "table.htable th {\n",
       "    border: 1px solid black;\n",
       "}\n",
       "\n",
       "table.htable th,\n",
       "table.htable td.head {\n",
       "    text-align: center;\n",
       "    font-weight: bold;\n",
       "}\n",
       "\n",
       "table.htable tr {\n",
       "    background-color: white !important;\n",
       "}\n",
       "table.htable tr:hover {\n",
       "    background-color: #39f2 !important;\n",
       "}\n",
       "\n",
       ".bold { font-weight: bold !important; }\n",
       ".red { color: red !important; }\n",
       ".italic { font-decoration: italic !important; }\n",
       "\n",
       ".text-left { text-align: left !important; }\n",
       ".text-center { text-align: center !important; }\n",
       ".text-right { text-align: right !important; }</style>"
      ],
      "text/plain": [
       "<IPython.core.display.HTML object>"
      ]
     },
     "metadata": {},
     "output_type": "display_data"
    },
    {
     "data": {
      "text/html": [
       "<div>\n",
       "<style scoped>\n",
       "    .dataframe tbody tr th:only-of-type {\n",
       "        vertical-align: middle;\n",
       "    }\n",
       "\n",
       "    .dataframe tbody tr th {\n",
       "        vertical-align: top;\n",
       "    }\n",
       "\n",
       "    .dataframe thead th {\n",
       "        text-align: right;\n",
       "    }\n",
       "</style>\n",
       "<table border=\"1\" class=\"dataframe\">\n",
       "  <thead>\n",
       "    <tr style=\"text-align: right;\">\n",
       "      <th></th>\n",
       "      <th>C1</th>\n",
       "      <th>C2</th>\n",
       "      <th>C3</th>\n",
       "      <th>C4</th>\n",
       "      <th>C5</th>\n",
       "      <th>C6</th>\n",
       "      <th>C7</th>\n",
       "      <th>C8</th>\n",
       "      <th>C9</th>\n",
       "      <th>C10</th>\n",
       "      <th>C11</th>\n",
       "      <th>C12</th>\n",
       "      <th>C13</th>\n",
       "      <th>C14</th>\n",
       "    </tr>\n",
       "  </thead>\n",
       "  <tbody>\n",
       "    <tr>\n",
       "      <th>0</th>\n",
       "      <td>64</td>\n",
       "      <td>Female</td>\n",
       "      <td>Former</td>\n",
       "      <td>21.48380</td>\n",
       "      <td>Often</td>\n",
       "      <td>1298.8</td>\n",
       "      <td>57.0</td>\n",
       "      <td>6.3</td>\n",
       "      <td>0.0</td>\n",
       "      <td>170.3</td>\n",
       "      <td>1945</td>\n",
       "      <td>890</td>\n",
       "      <td>200</td>\n",
       "      <td>915</td>\n",
       "    </tr>\n",
       "    <tr>\n",
       "      <th>1</th>\n",
       "      <td>76</td>\n",
       "      <td>Female</td>\n",
       "      <td>Never</td>\n",
       "      <td>23.87631</td>\n",
       "      <td>Often</td>\n",
       "      <td>1032.5</td>\n",
       "      <td>50.1</td>\n",
       "      <td>15.8</td>\n",
       "      <td>0.0</td>\n",
       "      <td>75.8</td>\n",
       "      <td>2653</td>\n",
       "      <td>451</td>\n",
       "      <td>124</td>\n",
       "      <td>727</td>\n",
       "    </tr>\n",
       "    <tr>\n",
       "      <th>2</th>\n",
       "      <td>38</td>\n",
       "      <td>Female</td>\n",
       "      <td>Former</td>\n",
       "      <td>20.01080</td>\n",
       "      <td>Not often</td>\n",
       "      <td>2372.3</td>\n",
       "      <td>83.6</td>\n",
       "      <td>19.1</td>\n",
       "      <td>14.1</td>\n",
       "      <td>257.9</td>\n",
       "      <td>6321</td>\n",
       "      <td>660</td>\n",
       "      <td>328</td>\n",
       "      <td>721</td>\n",
       "    </tr>\n",
       "    <tr>\n",
       "      <th>3</th>\n",
       "      <td>40</td>\n",
       "      <td>Female</td>\n",
       "      <td>Former</td>\n",
       "      <td>25.14062</td>\n",
       "      <td>No</td>\n",
       "      <td>2449.5</td>\n",
       "      <td>97.5</td>\n",
       "      <td>26.5</td>\n",
       "      <td>0.5</td>\n",
       "      <td>332.6</td>\n",
       "      <td>1061</td>\n",
       "      <td>864</td>\n",
       "      <td>153</td>\n",
       "      <td>615</td>\n",
       "    </tr>\n",
       "    <tr>\n",
       "      <th>4</th>\n",
       "      <td>72</td>\n",
       "      <td>Female</td>\n",
       "      <td>Never</td>\n",
       "      <td>20.98504</td>\n",
       "      <td>Often</td>\n",
       "      <td>1952.1</td>\n",
       "      <td>82.6</td>\n",
       "      <td>16.2</td>\n",
       "      <td>0.0</td>\n",
       "      <td>170.8</td>\n",
       "      <td>2863</td>\n",
       "      <td>1209</td>\n",
       "      <td>92</td>\n",
       "      <td>799</td>\n",
       "    </tr>\n",
       "  </tbody>\n",
       "</table>\n",
       "</div>"
      ],
      "text/plain": [
       "   C1      C2      C3        C4         C5      C6    C7    C8    C9    C10  \\\n",
       "0  64  Female  Former  21.48380      Often  1298.8  57.0   6.3   0.0  170.3   \n",
       "1  76  Female   Never  23.87631      Often  1032.5  50.1  15.8   0.0   75.8   \n",
       "2  38  Female  Former  20.01080  Not often  2372.3  83.6  19.1  14.1  257.9   \n",
       "3  40  Female  Former  25.14062         No  2449.5  97.5  26.5   0.5  332.6   \n",
       "4  72  Female   Never  20.98504      Often  1952.1  82.6  16.2   0.0  170.8   \n",
       "\n",
       "    C11   C12  C13  C14  \n",
       "0  1945   890  200  915  \n",
       "1  2653   451  124  727  \n",
       "2  6321   660  328  721  \n",
       "3  1061   864  153  615  \n",
       "4  2863  1209   92  799  "
      ]
     },
     "execution_count": 1,
     "metadata": {},
     "output_type": "execute_result"
    }
   ],
   "source": [
    "from pandas import *\n",
    "import numpy as np\n",
    "import math\n",
    "import matplotlib.pyplot as plt\n",
    "from statsmodels.distributions.empirical_distribution import ECDF\n",
    "from scipy import stats \n",
    "from s import Sample, HTable\n",
    "from s.utils import table, printf, load_styles\n",
    "load_styles()\n",
    "\n",
    "df = pandas.read_csv('data_matstat_K5.csv', sep=';')\n",
    "df.head()"
   ]
  },
  {
   "cell_type": "markdown",
   "metadata": {},
   "source": [
    "# 1. Описательные характеристики"
   ]
  },
  {
   "cell_type": "markdown",
   "metadata": {},
   "source": [
    "## 1.1. Выборочные характеристики\n",
    "Анализируемый признак 1 – C7 (Grams of fat consumed per day)\n",
    "\n",
    "Анализируемый признак 2 – C9 (Number of alcoholic drinks consumed per week)\n",
    "\n",
    "Анализируемый признак 3 – C12 (Dietary retinol consumed (mcg per day))"
   ]
  },
  {
   "cell_type": "code",
   "execution_count": 2,
   "metadata": {},
   "outputs": [
    {
     "data": {
      "text/html": [
       "<table width=\"100%\" class=\"htable\">\n",
       "    <thead><tr><th>Выборочная хар-ка</th><th>C7</th><th>C9</th><th>C12</th></tr></thead>\n",
       "    <tbody><tr><td>Объём выборки</td><td>315</td><td>315</td><td>315</td></tr><tr><td>Среднее</td><td>77.0333</td><td>3.2794</td><td>832.7143</td></tr><tr><td>Дисперсия</td><td>1144.4312</td><td>151.8534</td><td>347261.5614</td></tr><tr><td>Среднеквадратическое отклонение</td><td>33.8294</td><td>12.3229</td><td>589.289</td></tr><tr><td>Коэффициент асимметрии</td><td>1.099</td><td>13.7571</td><td>4.4525</td></tr><tr><td>Эксцесс</td><td>1.9648</td><td>217.8151</td><td>37.4471</td></tr></tbody>\n",
       "    </table>"
      ],
      "text/plain": [
       "<IPython.core.display.HTML object>"
      ]
     },
     "metadata": {},
     "output_type": "display_data"
    }
   ],
   "source": [
    "TASK_1_1 = ['C7', 'C9', 'C12']\n",
    "def print1_table(csv_table, task):\n",
    "    all_data = [csv_table[task[0]], csv_table[task[1]], csv_table[task[2]]]\n",
    "    all_np_data = [np.array(data) for data in all_data]\n",
    "    n_sample = ['Объём выборки', *[len(data) for data in all_data]]\n",
    "    mean = ['Среднее', *[round(data.mean(), 4) for data in all_data]]\n",
    "    var = ['Дисперсия', *[round(data.var(), 4) for data in all_data]]\n",
    "    std = ['Среднеквадратическое отклонение', *[round(data.std(), 4) for data in all_data]]\n",
    "    skew = ['Коэффициент асимметрии', *[round(stats.skew(data), 4) for data in all_data]]\n",
    "    kurtosis = ['Эксцесс', *[round(stats.kurtosis(data), 4) for data in all_data]]\n",
    "    table([\"Выборочная хар-ка\", task[0], task[1], task[2]],\n",
    "          [n_sample,\n",
    "           mean,\n",
    "           var,\n",
    "           std,\n",
    "           skew,\n",
    "           kurtosis])\n",
    "print1_table(df, TASK_1_1)"
   ]
  },
  {
   "cell_type": "markdown",
   "metadata": {},
   "source": [
    "## 1.2. Группировка и гистограммы частот\n",
    "Анализируемый признак – C7 (Grams of fat consumed per day)\n",
    "\n",
    "Объём выборки – 315"
   ]
  },
  {
   "cell_type": "code",
   "execution_count": 3,
   "metadata": {},
   "outputs": [
    {
     "name": "stdout",
     "output_type": "stream",
     "text": [
      "а) Выбрать число групп\n"
     ]
    },
    {
     "data": {
      "text/html": [
       "<table width=\"100%\" class=\"htable\">\n",
       "    <thead><tr><th>Число групп</th><th>Обоснование выбора числа групп</th><th>Ширина интервалов</th></tr></thead>\n",
       "    <tbody><tr><td>9</td><td>Формула Стерджесса</td><td>24.6111</td></tr></tbody>\n",
       "    </table>"
      ],
      "text/plain": [
       "<IPython.core.display.HTML object>"
      ]
     },
     "metadata": {},
     "output_type": "display_data"
    },
    {
     "name": "stdout",
     "output_type": "stream",
     "text": [
      "б) Построить таблицу частот\n"
     ]
    },
    {
     "data": {
      "text/html": [
       "<table width=\"100%\" class=\"htable\">\n",
       "    <thead><tr><th>Номер интервала</th><th>Нижняя граница</th><th>Верхняя граница</th><th>Частота</th><th>Относит. частота</th><th>Накопл. частота</th><th>Относит. накопл. частота</th></tr></thead>\n",
       "    <tbody><tr><td>1</td><td>14.4</td><td>39.0111</td><td>33</td><td>0.1048</td><td>33</td><td>0.1048</td></tr><tr><td>2</td><td>39.0111</td><td>63.6222</td><td>100</td><td>0.3175</td><td>133</td><td>0.4222</td></tr><tr><td>3</td><td>63.6222</td><td>88.2334</td><td>84</td><td>0.2667</td><td>217</td><td>0.6889</td></tr><tr><td>4</td><td>88.2334</td><td>112.8445</td><td>54</td><td>0.1714</td><td>271</td><td>0.8603</td></tr><tr><td>5</td><td>112.8445</td><td>137.4556</td><td>29</td><td>0.0921</td><td>300</td><td>0.9524</td></tr><tr><td>6</td><td>137.4556</td><td>162.0667</td><td>6</td><td>0.019</td><td>306</td><td>0.9714</td></tr><tr><td>7</td><td>162.0667</td><td>186.6779</td><td>6</td><td>0.019</td><td>312</td><td>0.9905</td></tr><tr><td>8</td><td>186.6779</td><td>211.289</td><td>2</td><td>0.0063</td><td>314</td><td>0.9968</td></tr><tr><td>9</td><td>211.289</td><td>235.9001</td><td>1</td><td>0.0032</td><td>315</td><td>1.0</td></tr></tbody>\n",
       "    </table>"
      ],
      "text/plain": [
       "<IPython.core.display.HTML object>"
      ]
     },
     "metadata": {},
     "output_type": "display_data"
    },
    {
     "name": "stdout",
     "output_type": "stream",
     "text": [
      "в) Построить гистограммы частот и полигоны частот\n"
     ]
    },
    {
     "data": {
      "image/png": "[encoded data removed]",
      "text/plain": [
       "<Figure size 864x576 with 4 Axes>"
      ]
     },
     "metadata": {
      "needs_background": "light"
     },
     "output_type": "display_data"
    },
    {
     "data": {
      "image/png": "[encoded data removed]",
      "text/plain": [
       "<Figure size 576x432 with 1 Axes>"
      ]
     },
     "metadata": {
      "needs_background": "light"
     },
     "output_type": "display_data"
    }
   ],
   "source": [
    "TASK_1_2 = ['C7']\n",
    "def print1_2_table(csv, task):\n",
    "    np_first = np.array(csv)\n",
    "    n = len(np_first)\n",
    "    k = math.floor(1 + math.log(n, 2))\n",
    "    begin = min(np_first)\n",
    "    end = max(np_first) + 0.0001\n",
    "    h = (end - begin) / k\n",
    "    print('а) Выбрать число групп')\n",
    "    table(['Число групп', 'Обоснование выбора числа групп', 'Ширина интервалов'],\n",
    "          [[k, 'Формула Стерджесса', round(h, 4)]])\n",
    "    print('б) Построить таблицу частот')\n",
    "    rows = []\n",
    "    cur_freq = 0\n",
    "    bins_list = [begin]\n",
    "    polygon_x_list = []\n",
    "    cum_polygon_x_list = []\n",
    "    polygon_y_list = []\n",
    "    cum_polygon_y_list = []\n",
    "    for i in range(1, k + 1):\n",
    "        local_begin = round(begin + (i - 1) * h, 4)\n",
    "        local_end = round(begin + i * h, 4)\n",
    "        cum_polygon_x_list.append(local_end)\n",
    "        polygon_x_list.append((local_begin + local_end) / 2)\n",
    "        bins_list.append(local_end)\n",
    "        freq = len(list(filter(lambda x: local_begin <= x < local_end, np_first)))\n",
    "        polygon_y_list.append(freq)\n",
    "        cur_freq += freq\n",
    "        cum_polygon_y_list.append(cur_freq)\n",
    "        cur_row = [i, local_begin, local_end, freq, round(freq / n, 4), cur_freq, round(cur_freq / n, 4)]\n",
    "        rows.append(cur_row)\n",
    "    table(['Номер интервала', 'Нижняя граница', 'Верхняя граница', 'Частота', 'Относит. частота', 'Накопл. частота', 'Относит. накопл. частота'],\n",
    "          rows)\n",
    "    print('в) Построить гистограммы частот и полигоны частот')\n",
    "    fig, ax = plt.subplots(2, 2, figsize=(12, 8))\n",
    "    picture1 = ax[0][0]\n",
    "    picture1.hist(np_first, bins=bins_list)\n",
    "    picture1.plot(polygon_x_list, polygon_y_list, lw=3)\n",
    "    picture1.set_title('Гистограмма и полигон частот', fontsize=12)\n",
    "    picture2 = ax[0][1]\n",
    "    picture2.hist(np_first, bins=bins_list, weights=[1 / n for _ in range(n)])\n",
    "    picture2.plot(polygon_x_list, [freq / n for freq in polygon_y_list], lw=3)\n",
    "    picture2.set_title('Гистограмма и полигон относительных частот', fontsize=12)\n",
    "    picture3 = ax[1][0]\n",
    "    picture3.hist(np_first, bins=bins_list, cumulative=True)\n",
    "    picture3.plot(cum_polygon_x_list, cum_polygon_y_list, lw=3)\n",
    "    picture3.set_title('Гистограмма и полигон накопленных частот', fontsize=12)\n",
    "    picture4 = ax[1][1]\n",
    "    picture4.hist(np_first, bins=bins_list, cumulative=True, weights=[1 / n for _ in range(n)])\n",
    "    picture4.plot(cum_polygon_x_list, [freq / n for freq in cum_polygon_y_list], lw=3)\n",
    "    picture4.set_title('Гистограмма и полигон накопленных относительных частот', fontsize=12)\n",
    "    \n",
    "    fig, ax = plt.subplots(figsize=(8, 6))\n",
    "    ecdf = ECDF(np_first)\n",
    "    x_list = np.linspace(begin, end, n * 2)\n",
    "    y_list = ecdf(x_list)\n",
    "    ax.plot(x_list, y_list,  lw=3)\n",
    "    ax.set_title('График эмпирической функции распределения', fontsize=12)\n",
    "        \n",
    "    \n",
    "print1_2_table(df[TASK_1_2[0]], TASK_1_2)"
   ]
  },
  {
   "cell_type": "markdown",
   "metadata": {},
   "source": [
    "# 2. Интервальные оценки\n",
    "## 2.1. Доверительные интервалы для мат. ожидания\n",
    "Анализируемый признак – C7 (Grams of fat consumed per day)\n",
    "\n",
    "Объём выборки – 315\n",
    "\n",
    "Оцениваемый параметр – мат. ожидание"
   ]
  },
  {
   "cell_type": "code",
   "execution_count": 4,
   "metadata": {},
   "outputs": [
    {
     "name": "stdout",
     "output_type": "stream",
     "text": [
      "б) Рассчитать доверительные интервалы\n"
     ]
    },
    {
     "data": {
      "text/html": [
       "<table width=\"100%\" class=\"htable\">\n",
       "    <thead><tr><th>Граница доверительного интервала</th><th>$\\alpha = 0.01$</th><th>$\\alpha = 0.05$</th><th>$\\alpha = 0.1$</th></tr></thead>\n",
       "    <tbody><tr><td>Нижняя граница</td><td>72.0936</td><td>73.283</td><td>73.8888</td></tr><tr><td>Верхняя граница</td><td>81.9731</td><td>80.7836</td><td>80.1778</td></tr></tbody>\n",
       "    </table>"
      ],
      "text/plain": [
       "<IPython.core.display.HTML object>"
      ]
     },
     "metadata": {},
     "output_type": "display_data"
    }
   ],
   "source": [
    "print('б) Рассчитать доверительные интервалы')\n",
    "def mean_confidence_interval(data, alpha):\n",
    "    n = len(data)\n",
    "    mean = data.mean()\n",
    "    h = data.std(ddof=1) * stats.t.ppf(1 - alpha / 2, n-1) / np.sqrt(n)\n",
    "    return round(mean - h, 4), round(mean + h, 4)\n",
    "\n",
    "def print_2_1(csv, task):\n",
    "    np_first = np.array(csv)\n",
    "    l1, r1 = mean_confidence_interval(np_first, 0.01)\n",
    "    l5, r5 = mean_confidence_interval(np_first, 0.05)\n",
    "    l10, r10 = mean_confidence_interval(np_first, 0.1)\n",
    "    table(['Граница доверительного интервала', '$\\\\alpha = 0.01$', '$\\\\alpha = 0.05$', '$\\\\alpha = 0.1$'],\n",
    "          [['Нижняя граница', l1, l5, l10],\n",
    "           ['Верхняя граница', r1, r5, r10]])\n",
    "\n",
    "TASK_2_1 = ['C7']\n",
    "print_2_1(df[TASK_2_1[0]], TASK_2_1)"
   ]
  },
  {
   "cell_type": "markdown",
   "metadata": {},
   "source": [
    "## 2.2. Доверительные интервалы для дисперсии\n",
    "Анализируемый признак  – C7 (Grams of fat consumed per day)\n",
    "\n",
    "Объём выборки – 315\n",
    "\n",
    "Оцениваемый параметр – дисперсия"
   ]
  },
  {
   "cell_type": "code",
   "execution_count": 5,
   "metadata": {},
   "outputs": [
    {
     "name": "stdout",
     "output_type": "stream",
     "text": [
      "б) Рассчитать доверительные интервалы\n"
     ]
    },
    {
     "data": {
      "text/html": [
       "<table width=\"100%\" class=\"htable\">\n",
       "    <thead><tr><th>Граница доверительного интервала</th><th>$\\alpha = 0.01$</th><th>$\\alpha = 0.05$</th><th>$\\alpha = 0.1$</th></tr></thead>\n",
       "    <tbody><tr><td>Нижняя граница</td><td>939.9721</td><td>984.5714</td><td>1008.4927</td></tr><tr><td>Верхняя граница</td><td>1419.1945</td><td>1346.8726</td><td>1311.7503</td></tr></tbody>\n",
       "    </table>"
      ],
      "text/plain": [
       "<IPython.core.display.HTML object>"
      ]
     },
     "metadata": {},
     "output_type": "display_data"
    }
   ],
   "source": [
    "print('б) Рассчитать доверительные интервалы')\n",
    "def var_confidence_interval(data, alpha):\n",
    "    n = len(data)\n",
    "    var = data.std(ddof=1) ** 2\n",
    "    l = (n - 1) * var / stats.chi2.ppf(1 - alpha / 2, n-1)\n",
    "    r = (n - 1) * var / stats.chi2.ppf(alpha / 2, n-1)\n",
    "    return round(l, 4), round(r, 4)\n",
    "\n",
    "def print_2_2(csv, task):\n",
    "    np_first = np.array(csv)\n",
    "    l1, r1 = var_confidence_interval(np_first, 0.01)\n",
    "    l5, r5 = var_confidence_interval(np_first, 0.05)\n",
    "    l10, r10 = var_confidence_interval(np_first, 0.1)\n",
    "    table(['Граница доверительного интервала', '$\\\\alpha = 0.01$', '$\\\\alpha = 0.05$', '$\\\\alpha = 0.1$'],\n",
    "          [['Нижняя граница', l1, l5, l10],\n",
    "           ['Верхняя граница', r1, r5, r10]])\n",
    "\n",
    "TASK_2_2 = ['C7']\n",
    "print_2_2(df[TASK_2_1[0]], TASK_2_1)"
   ]
  },
  {
   "cell_type": "markdown",
   "metadata": {},
   "source": [
    "# 2.3. Доверительные интервалы для разности мат. ожиданий\n",
    "Анализируемый признак 1 – C13 (Plasma beta-carotene (ng/ml))\n",
    "\n",
    "Анализируемый признак 2 – C14 (Plasma Retinol (ng/ml))\n",
    "\n",
    "Объёмы выборок – 315\n",
    "\n",
    "Оцениваемый параметр – разность мат. ожиданий "
   ]
  },
  {
   "cell_type": "code",
   "execution_count": 6,
   "metadata": {},
   "outputs": [
    {
     "name": "stdout",
     "output_type": "stream",
     "text": [
      "б) Рассчитать доверительные интервалы\n"
     ]
    },
    {
     "data": {
      "text/html": [
       "<table width=\"100%\" class=\"htable\">\n",
       "    <thead><tr><th>Граница доверительного интервала</th><th>$\\alpha = 0.01$</th><th>$\\alpha = 0.05$</th><th>$\\alpha = 0.1$</th></tr></thead>\n",
       "    <tbody><tr><td>Нижняя граница</td><td>372.4701</td><td>382.1705</td><td>387.1224</td></tr><tr><td>Верхняя граница</td><td>453.3267</td><td>443.6263</td><td>438.6744</td></tr></tbody>\n",
       "    </table>"
      ],
      "text/plain": [
       "<IPython.core.display.HTML object>"
      ]
     },
     "metadata": {},
     "output_type": "display_data"
    }
   ],
   "source": [
    "print('б) Рассчитать доверительные интервалы')\n",
    "def mean_diff_confidence_interval(data1, data2, alpha):\n",
    "    n1 = len(data1)\n",
    "    n2 = len(data2)\n",
    "    mean_1 = data1.mean()\n",
    "    mean_2 = data2.mean()\n",
    "    var1 = data1.var(ddof=1)\n",
    "    var2 = data2.var(ddof=1)\n",
    "    S = np.sqrt(((n1 - 1) * var1 + (n2 - 1) * var2) / (n1 + n2 - 2))\n",
    "    h = stats.t.ppf(1 - alpha / 2, n1 + n2 - 2) * S * np.sqrt(1 / n1 + 1 / n2)\n",
    "    return round(abs(mean_1 - mean_2) - h, 4), round(abs(mean_1 - mean_2) + h, 4)\n",
    "\n",
    "def print_2_3(csv1, csv2):\n",
    "    np_first = np.array(csv1)\n",
    "    np_second = np.array(csv2)\n",
    "    l1, r1 = mean_diff_confidence_interval(np_first, np_second, 0.01)\n",
    "    l5, r5 = mean_diff_confidence_interval(np_first, np_second, 0.05)\n",
    "    l10, r10 = mean_diff_confidence_interval(np_first, np_second, 0.1)\n",
    "    table(['Граница доверительного интервала', '$\\\\alpha = 0.01$', '$\\\\alpha = 0.05$', '$\\\\alpha = 0.1$'],\n",
    "          [['Нижняя граница', l1, l5, l10],\n",
    "           ['Верхняя граница', r1, r5, r10]])\n",
    "\n",
    "TASK_2_3 = ['C13', 'C14']\n",
    "print_2_3(df[TASK_2_3[0]], df[TASK_2_3[1]])"
   ]
  },
  {
   "cell_type": "markdown",
   "metadata": {},
   "source": [
    "## 2.4. Доверительные интервалы для отношения дисперсий\n",
    "Анализируемый признак 1 – C13 (Plasma beta-carotene (ng/ml))\n",
    "\n",
    "Анализируемый признак 2 – C14 (Plasma Retinol (ng/ml))\n",
    "\n",
    "Объёмы выборок – 315\n",
    "\n",
    "Оцениваемый параметр – отношение дисперсий"
   ]
  },
  {
   "cell_type": "code",
   "execution_count": 7,
   "metadata": {},
   "outputs": [
    {
     "name": "stdout",
     "output_type": "stream",
     "text": [
      "б) Рассчитать доверительные интервалы\n"
     ]
    },
    {
     "data": {
      "text/html": [
       "<table width=\"100%\" class=\"htable\">\n",
       "    <thead><tr><th>Граница доверительного интервала</th><th>$\\alpha = 0.01$</th><th>$\\alpha = 0.05$</th><th>$\\alpha = 0.1$</th></tr></thead>\n",
       "    <tbody><tr><td>Нижняя граница</td><td>0.5734</td><td>0.6149</td><td>0.6372</td></tr><tr><td>Верхняя граница</td><td>1.0271</td><td>0.9578</td><td>0.9243</td></tr></tbody>\n",
       "    </table>"
      ],
      "text/plain": [
       "<IPython.core.display.HTML object>"
      ]
     },
     "metadata": {},
     "output_type": "display_data"
    }
   ],
   "source": [
    "print('б) Рассчитать доверительные интервалы')\n",
    "def var_diff_confidence_interval(data1, data2, alpha):\n",
    "    n1 = len(data1)\n",
    "    n2 = len(data2)\n",
    "    var1 = data1.var(ddof=1)\n",
    "    var2 = data2.var(ddof=1)\n",
    "    f_a_2 = stats.f.ppf(alpha / 2, n2 - 1, n1 - 1)\n",
    "    f_1_a_2 = stats.f.ppf(1 - alpha / 2, n2 - 1, n1 - 1)\n",
    "    return round(var1 / var2 * f_a_2, 4), round(var1 / var2 * f_1_a_2, 4)\n",
    "\n",
    "def print_2_4(csv1, csv2):\n",
    "    np_first = np.array(csv1)\n",
    "    np_second = np.array(csv2)\n",
    "    l1, r1 = var_diff_confidence_interval(np_first, np_second, 0.01)\n",
    "    l5, r5 = var_diff_confidence_interval(np_first, np_second, 0.05)\n",
    "    l10, r10 = var_diff_confidence_interval(np_first, np_second, 0.1)\n",
    "    table(['Граница доверительного интервала', '$\\\\alpha = 0.01$', '$\\\\alpha = 0.05$', '$\\\\alpha = 0.1$'],\n",
    "          [['Нижняя граница', l1, l5, l10],\n",
    "           ['Верхняя граница', r1, r5, r10]])\n",
    "\n",
    "TASK_2_4 = ['C13', 'C14']\n",
    "print_2_4(df[TASK_2_4[0]], df[TASK_2_4[1]])"
   ]
  },
  {
   "cell_type": "markdown",
   "metadata": {},
   "source": [
    "# 3. Проверка статистических гипотез о математических ожиданиях и дисперсиях\n",
    "## 3.1. Проверка статистических гипотез о математических ожиданиях\n",
    "Анализируемый признак – C7 (Grams of fat consumed per day)\n",
    "\n",
    "Объём выборки – 315\n",
    "\n",
    "Статистическая гипотеза – $H_0: m = m_0$ \n",
    "\n",
    "$H': m \\neq m_0$"
   ]
  },
  {
   "cell_type": "code",
   "execution_count": 8,
   "metadata": {},
   "outputs": [
    {
     "data": {
      "text/html": [
       "<table width=\"100%\" class=\"htable\">\n",
       "    <thead><tr><th>$m_0$</th><th>Уровень значимости</th><th>Выборочное значение статистики критерия</th><th>p-value</th><th>Статистическое решение</th></tr></thead>\n",
       "    <tbody><tr><td>73</td><td>0.1</td><td>2.116</td><td>0.0351</td><td>H'</td></tr><tr><td>75</td><td>0.1</td><td>1.0668</td><td>0.2869</td><td>H0</td></tr><tr><td>77</td><td>0.1</td><td>0.0175</td><td>0.9861</td><td>H0</td></tr></tbody>\n",
       "    </table>"
      ],
      "text/plain": [
       "<IPython.core.display.HTML object>"
      ]
     },
     "metadata": {},
     "output_type": "display_data"
    }
   ],
   "source": [
    "def criterion_t_test_row(data, m0, alpha=0.1):\n",
    "    mean = data.mean()\n",
    "    s = data.std(ddof=1)\n",
    "    n = len(data)\n",
    "    z = (mean - m0) / s * np.sqrt(n)\n",
    "    t_quantile = stats.t.ppf(1 - alpha / 2, n - 1)\n",
    "    decision = 'H0' if abs(z) < t_quantile else \"H'\"\n",
    "    l_p_value = stats.t.cdf(z, n - 1)\n",
    "    p_value = 2 * min(l_p_value, 1 - l_p_value)\n",
    "    return m0, alpha, round(z, 4), round(p_value, 4), decision\n",
    "\n",
    "def print_3_1(csv):\n",
    "    np_first = np.array(csv)\n",
    "    table(['$m_0$', 'Уровень значимости', 'Выборочное значение статистики критерия', 'p-value', 'Статистическое решение'], \n",
    "          [criterion_t_test_row(np_first, 73, alpha=0.1),\n",
    "           criterion_t_test_row(np_first, 75, alpha=0.1),\n",
    "           criterion_t_test_row(np_first, 77, alpha=0.1),])\n",
    "\n",
    "TASK_3_1 = ['C7']\n",
    "print_3_1(df[TASK_3_1[0]])"
   ]
  },
  {
   "cell_type": "code",
   "execution_count": 9,
   "metadata": {},
   "outputs": [
    {
     "data": {
      "text/html": [
       "<table width=\"100%\" class=\"htable\">\n",
       "    <thead><tr><th>$\\sigma_0$</th><th>Уровень значимости</th><th>Выборочное значение статистики критерия</th><th>p-value</th><th>Статистическое решение</th></tr></thead>\n",
       "    <tbody><tr><td>31.6</td><td>0.1</td><td>359.8696</td><td>0.076</td><td>H'</td></tr><tr><td>33.16</td><td>0.1</td><td>326.8062</td><td>0.5956</td><td>H0</td></tr><tr><td>34.6</td><td>0.1</td><td>300.1699</td><td>0.5937</td><td>H0</td></tr></tbody>\n",
       "    </table>"
      ],
      "text/plain": [
       "<IPython.core.display.HTML object>"
      ]
     },
     "metadata": {},
     "output_type": "display_data"
    }
   ],
   "source": [
    "def criterion_chi_squared_test_row(data, d0, alpha=0.1):\n",
    "    S = data.var(ddof=1)\n",
    "    n = len(data)\n",
    "    z = (n - 1) * S / d0 ** 2\n",
    "    chi2_l_quantile = stats.chi2.ppf(alpha / 2, n - 1)\n",
    "    chi2_r_quantile = stats.chi2.ppf(1 - alpha / 2, n - 1)\n",
    "    l_p_value = stats.chi2.cdf(z, n - 1)\n",
    "    p_value = 2 * min(l_p_value, 1 - l_p_value)\n",
    "    decision = 'H0' if chi2_l_quantile < z < chi2_r_quantile else \"H'\"\n",
    "    return d0, alpha, round(z, 4), round(p_value, 4), decision\n",
    "\n",
    "def print_3_2(csv):\n",
    "    np_first = np.array(csv)\n",
    "    table(['$\\sigma_0$', 'Уровень значимости', 'Выборочное значение статистики критерия', 'p-value', 'Статистическое решение'],\n",
    "          [criterion_chi_squared_test_row(np_first, 31.6, alpha=0.1),\n",
    "           criterion_chi_squared_test_row(np_first, 33.16, alpha=0.1),\n",
    "           criterion_chi_squared_test_row(np_first, 34.6, alpha=0.1)])\n",
    "\n",
    "TASK_3_2 = ['C7']\n",
    "print_3_2(df[TASK_3_1[0]])"
   ]
  },
  {
   "cell_type": "markdown",
   "metadata": {},
   "source": [
    "## 3.3. Проверка статистических гипотез о равенстве математических ожиданий\n",
    "Анализируемый признак 1 – C13 (Plasma beta-carotene (ng/ml))\n",
    "\n",
    "Анализируемый признак 2 – C14 (Plasma Retinol (ng/ml))\n",
    "\n",
    "Объёмы выборок – 315\n",
    "\n",
    "Статистическая гипотеза – дана"
   ]
  },
  {
   "cell_type": "code",
   "execution_count": 10,
   "metadata": {},
   "outputs": [
    {
     "data": {
      "text/html": [
       "<table width=\"100%\" class=\"htable\">\n",
       "    <thead><tr><th>Уровень значимости</th><th>Выборочное значение статистики критерия</th><th>p-value</th><th>Статистическое решение</th></tr></thead>\n",
       "    <tbody><tr><td>0.01</td><td>26.3874</td><td>0.0</td><td>H'</td></tr><tr><td>0.05</td><td>26.3874</td><td>0.0</td><td>H'</td></tr><tr><td>0.1</td><td>26.3874</td><td>0.0</td><td>H'</td></tr></tbody>\n",
       "    </table>"
      ],
      "text/plain": [
       "<IPython.core.display.HTML object>"
      ]
     },
     "metadata": {},
     "output_type": "display_data"
    }
   ],
   "source": [
    "def criterion_welchs_t_test_row(data1, data2, alpha=0.1):\n",
    "    n1 = len(data1)\n",
    "    n2 = len(data2)\n",
    "    mean1 = data1.mean()\n",
    "    mean2 = data2.mean()\n",
    "    S1 = data1.var(ddof=1)\n",
    "    S2 = data2.var(ddof=1)\n",
    "    k = ((S1 / n1) / (S1 / n1 + S2 / n2)) ** 2 / (n1 - 1)\n",
    "    k += ((S2 / n1) / (S1 / n1 + S2 / n2)) ** 2 / (n2 - 1)\n",
    "    z = abs(mean1 - mean2) / (np.sqrt(S1 / n1 + S2 / n2))\n",
    "    t_quantile = stats.t.ppf(1 - alpha / 2, math.floor(1 / k))\n",
    "    l_p_value = stats.t.cdf(z, math.floor(1 / k))\n",
    "    p_value = 2 * min(l_p_value, 1 - l_p_value)\n",
    "    dessision = 'H0' if abs(z) < t_quantile else \"H'\"\n",
    "    return alpha, round(z, 4), p_value, dessision\n",
    "\n",
    "def print_3_3(csv1, csv2):\n",
    "    np_first = np.array(csv1)\n",
    "    np_second = np.array(csv2)\n",
    "    table(['Уровень значимости', 'Выборочное значение статистики критерия', 'p-value', 'Статистическое решение'],\n",
    "          [criterion_welchs_t_test_row(np_first, np_second, alpha=0.01),\n",
    "           criterion_welchs_t_test_row(np_first, np_second, alpha=0.05),\n",
    "           criterion_welchs_t_test_row(np_first, np_second, alpha=0.1),])\n",
    "\n",
    "TASK_3_3 = ['C13', 'C14']\n",
    "print_3_3(df[TASK_3_3[0]], df[TASK_3_3[1]])"
   ]
  },
  {
   "cell_type": "markdown",
   "metadata": {},
   "source": [
    "## 3.4. Проверка статистических гипотез о равенстве дисперсий\n",
    "Анализируемый признак 1 – C13 (Plasma beta-carotene (ng/ml))\n",
    "\n",
    "Анализируемый признак 2 – C14 (Plasma Retinol (ng/ml))\n",
    "\n",
    "Объёмы выборок – 315\n",
    "\n",
    "Статистическая гипотеза – дана"
   ]
  },
  {
   "cell_type": "code",
   "execution_count": 11,
   "metadata": {},
   "outputs": [
    {
     "data": {
      "text/html": [
       "<table width=\"100%\" class=\"htable\">\n",
       "    <thead><tr><th>Уровень значимости</th><th>Выборочное значение статистики критерия</th><th>p-value</th><th>Статистическое решение</th></tr></thead>\n",
       "    <tbody><tr><td>0.01</td><td>0.7674</td><td>0.0193</td><td>H0</td></tr><tr><td>0.05</td><td>0.7674</td><td>0.0193</td><td>H'</td></tr><tr><td>0.1</td><td>0.7674</td><td>0.0193</td><td>H'</td></tr></tbody>\n",
       "    </table>"
      ],
      "text/plain": [
       "<IPython.core.display.HTML object>"
      ]
     },
     "metadata": {},
     "output_type": "display_data"
    }
   ],
   "source": [
    "def criterion_two_sample_f_test_row(data1, data2, alpha=0.1):\n",
    "    n1 = len(data1)\n",
    "    n2 = len(data2)\n",
    "    S1 = data1.var(ddof=1)\n",
    "    S2 = data2.var(ddof=1)\n",
    "    z = S1 / S2\n",
    "    f_l_quantile = stats.f.ppf(alpha / 2, n1 - 1, n2 - 1)\n",
    "    f_r_quantile = stats.f.ppf(1 - alpha / 2, n1 - 1, n2 - 1)\n",
    "    l_p_value = stats.f.cdf(z, n1 - 1, n2 - 1)\n",
    "    p_value = 2 * min(l_p_value, 1 - l_p_value)\n",
    "    dessision = 'H0' if f_l_quantile < abs(z) < f_r_quantile else \"H'\"\n",
    "    return alpha, round(z, 4), round(p_value, 4), dessision\n",
    "\n",
    "def print_3_4(csv1, csv2):\n",
    "    np_first = np.array(csv1)\n",
    "    np_second = np.array(csv2)\n",
    "    table(['Уровень значимости', 'Выборочное значение статистики критерия', 'p-value', 'Статистическое решение'],\n",
    "          [criterion_two_sample_f_test_row(np_first, np_second, alpha=0.01),\n",
    "           criterion_two_sample_f_test_row(np_first, np_second, alpha=0.05),\n",
    "           criterion_two_sample_f_test_row(np_first, np_second, alpha=0.1),])\n",
    "\n",
    "TASK_3_4 = ['C13', 'C14']\n",
    "print_3_4(df[TASK_3_4[0]], df[TASK_3_4[1]])"
   ]
  },
  {
   "cell_type": "markdown",
   "metadata": {},
   "source": [
    "## 4. Критерии согласия\n",
    "Анализируемый признак – C7 (Grams of fat consumed per day)\n",
    "\n",
    "Объём выборки – 315\n",
    "\n",
    "## 4.1. Критерий хи-квадрат\n",
    "Теоретическое распределение – нормальное.\n",
    "\n",
    "Статистическая гипотеза – H_0:F(x)~N"
   ]
  },
  {
   "cell_type": "code",
   "execution_count": 12,
   "metadata": {},
   "outputs": [
    {
     "name": "stdout",
     "output_type": "stream",
     "text": [
      "б) Выбрать число групп\n"
     ]
    },
    {
     "data": {
      "text/html": [
       "<table width=\"100%\" class=\"htable\">\n",
       "    <thead><tr><th>Число групп</th><th>Обоснование выбора числа групп</th><th>Ширина интервалов</th></tr></thead>\n",
       "    <tbody><tr><td>9</td><td>Формула Стерджесса</td><td>24.6111</td></tr></tbody>\n",
       "    </table>"
      ],
      "text/plain": [
       "<IPython.core.display.HTML object>"
      ]
     },
     "metadata": {},
     "output_type": "display_data"
    },
    {
     "name": "stdout",
     "output_type": "stream",
     "text": [
      "в) Построить таблицу частот\n"
     ]
    },
    {
     "data": {
      "text/html": [
       "<table width=\"100%\" class=\"htable\">\n",
       "    <thead><tr><th>Номер интервала</th><th>Нижняя граница</th><th>Верхняя граница</th><th>Частота</th><th>Относит. частота</th><th>Накопл. частота</th><th>Относит. накопл. частота</th><th>Вероятность попадания в интервал при условии истинности основной гипотезы</th></tr></thead>\n",
       "    <tbody><tr><td>1</td><td>14.4</td><td>39.0111</td><td>33</td><td>0.1048</td><td>33</td><td>0.1048</td><td>0.1301</td></tr><tr><td>2</td><td>39.0111</td><td>63.6222</td><td>100</td><td>0.3175</td><td>133</td><td>0.4222</td><td>0.2155</td></tr><tr><td>3</td><td>63.6222</td><td>88.2334</td><td>84</td><td>0.2667</td><td>217</td><td>0.6889</td><td>0.2842</td></tr><tr><td>4</td><td>88.2334</td><td>112.8445</td><td>54</td><td>0.1714</td><td>271</td><td>0.8603</td><td>0.2256</td></tr><tr><td>5</td><td>112.8445</td><td>137.4556</td><td>29</td><td>0.0921</td><td>300</td><td>0.9524</td><td>0.1077</td></tr><tr><td>6</td><td>137.4556</td><td>162.0667</td><td>6</td><td>0.019</td><td>306</td><td>0.9714</td><td>0.0309</td></tr><tr><td>7</td><td>162.0667</td><td>186.6779</td><td>6</td><td>0.019</td><td>312</td><td>0.9905</td><td>0.0053</td></tr><tr><td>8</td><td>186.6779</td><td>211.289</td><td>2</td><td>0.0063</td><td>314</td><td>0.9968</td><td>0.0005</td></tr><tr><td>9</td><td>211.289</td><td>235.9001</td><td>1</td><td>0.0032</td><td>315</td><td>1.0</td><td>0.0</td></tr></tbody>\n",
       "    </table>"
      ],
      "text/plain": [
       "<IPython.core.display.HTML object>"
      ]
     },
     "metadata": {},
     "output_type": "display_data"
    },
    {
     "name": "stdout",
     "output_type": "stream",
     "text": [
      "г) Построить гистограмму относительных частот и функцию плотности теоретического распределения на одном графике\n"
     ]
    },
    {
     "data": {
      "image/png": "[encoded data removed]",
      "text/plain": [
       "<Figure size 432x288 with 1 Axes>"
      ]
     },
     "metadata": {
      "needs_background": "light"
     },
     "output_type": "display_data"
    },
    {
     "name": "stdout",
     "output_type": "stream",
     "text": [
      "д) Проверить статистические гипотезы\n"
     ]
    },
    {
     "data": {
      "text/html": [
       "<table width=\"100%\" class=\"htable\">\n",
       "    <thead><tr><th>Уровень значимости</th><th>Выборочное значение статистики критерия</th><th>p-value</th><th>Статистическое решение</th></tr></thead>\n",
       "    <tbody><tr><td>0.01</td><td>141.9568</td><td>0.0</td><td>H1</td></tr><tr><td>0.05</td><td>141.9568</td><td>0.0</td><td>H1</td></tr><tr><td>0.1</td><td>141.9568</td><td>0.0</td><td>H1</td></tr></tbody>\n",
       "    </table>"
      ],
      "text/plain": [
       "<IPython.core.display.HTML object>"
      ]
     },
     "metadata": {},
     "output_type": "display_data"
    }
   ],
   "source": [
    "def pirson_test(data, bins, probabilities, alpha = 0.1):\n",
    "    hist_real, _ = np.histogram(data, bins=bins)\n",
    "    hist_expected = np.array(probabilities) * len(data)\n",
    "    z = np.sum(\n",
    "            (hist_real - hist_expected) ** 2 / hist_expected\n",
    "        )\n",
    "    criterion_dist = stats.chi2((len(bins) - 1) - 2 - 1)\n",
    "    p_value = 1 - criterion_dist.cdf(z)\n",
    "    critical_v = criterion_dist.ppf(1 - alpha)\n",
    "    decision = 'H0' if z < critical_v else 'H1'\n",
    "    return alpha, round(z, 4), p_value, decision\n",
    "\n",
    "def print4_1_table(csv):\n",
    "    np_first = np.array(csv)\n",
    "    n = len(np_first)\n",
    "    k = math.floor(1 + math.log(n, 2))\n",
    "    begin = min(np_first)\n",
    "    end = max(np_first) + 0.0001\n",
    "    h = (end - begin) / k\n",
    "    print('б) Выбрать число групп')\n",
    "    table(['Число групп', 'Обоснование выбора числа групп', 'Ширина интервалов'],\n",
    "          [[k, 'Формула Стерджесса', round(h, 4)]])\n",
    "    rows = []\n",
    "    cur_freq = 0\n",
    "    bins_list = [begin]\n",
    "    polygon_x_list = []\n",
    "    cum_polygon_x_list = []\n",
    "    polygon_y_list = []\n",
    "    cum_polygon_y_list = []\n",
    "    probabilities = []\n",
    "    N = stats.norm(np_first.mean(), np_first.std())\n",
    "    print('в) Построить таблицу частот')\n",
    "    for i in range(1, k + 1):\n",
    "        local_begin = round(begin + (i - 1) * h, 4)\n",
    "        local_end = round(begin + i * h, 4)\n",
    "        if i == 1:\n",
    "            probabilities.append(N.cdf(local_end))\n",
    "        elif i == k:\n",
    "            probabilities.append(1 - N.cdf(local_begin))\n",
    "        else:\n",
    "            probabilities.append(N.cdf(local_end) - N.cdf(local_begin))\n",
    "        cum_polygon_x_list.append(local_end)\n",
    "        polygon_x_list.append((local_begin + local_end) / 2)\n",
    "        bins_list.append(local_end)\n",
    "        freq = len(list(filter(lambda x: local_begin <= x < local_end, np_first)))\n",
    "        polygon_y_list.append(freq)\n",
    "        cur_freq += freq\n",
    "        cum_polygon_y_list.append(cur_freq)\n",
    "        cur_row = [i, local_begin, local_end, freq, round(freq / n, 4), cur_freq, round(cur_freq / n, 4), round(probabilities[-1], 4)]\n",
    "        rows.append(cur_row)\n",
    "    table(['Номер интервала', 'Нижняя граница', 'Верхняя граница', 'Частота', 'Относит. частота', 'Накопл. частота', 'Относит. накопл. частота', \n",
    "           'Вероятность попадания в интервал при условии истинности основной гипотезы'],\n",
    "          rows)\n",
    "    \n",
    "    print('г) Построить гистограмму относительных частот и функцию плотности теоретического распределения на одном графике')\n",
    "    plt.hist(np_first, bins=9, density=True)\n",
    "    x = np.linspace(min(np_first), max(np_first), 2*len(np_first))\n",
    "    y = N.pdf(x)\n",
    "    plt.plot(x, y, label='Теоретическая', linewidth=3)\n",
    "    plt.title('Гистограмма относительных частот и функция плотности теоретического распределения', fontsize=12)\n",
    "    plt.legend(loc='upper right')\n",
    "    plt.show()\n",
    "    \n",
    "    print('д) Проверить статистические гипотезы')\n",
    "    table(\n",
    "        ['Уровень значимости', 'Выборочное значение статистики критерия', 'p-value', 'Статистическое решение'],\n",
    "        [\n",
    "            pirson_test(np_first, bins_list, probabilities, 0.01),\n",
    "            pirson_test(np_first, bins_list, probabilities, 0.05),\n",
    "            pirson_test(np_first, bins_list, probabilities, 0.1)\n",
    "        ]\n",
    "    )         \n",
    "\n",
    "TASK_4_1 = ['C7']\n",
    "print4_1_table(df[TASK_4_1[0]])"
   ]
  },
  {
   "cell_type": "markdown",
   "metadata": {},
   "source": [
    "## 4.2. Проверка гипотезы о нормальности на основе коэффициента асимметрии и эксцесса (критерий Харке-Бера)\n",
    "\n",
    "Статистическая гипотеза – H_0:F(x)~N"
   ]
  },
  {
   "cell_type": "code",
   "execution_count": 13,
   "metadata": {},
   "outputs": [
    {
     "name": "stdout",
     "output_type": "stream",
     "text": [
      "б) Проверить статистические гипотезы\n"
     ]
    },
    {
     "data": {
      "text/html": [
       "<table width=\"100%\" class=\"htable\">\n",
       "    <thead><tr><th>Уровень значимости</th><th>Выборочное значение статистики критерия</th><th>p-value</th><th>Статистическое решение</th></tr></thead>\n",
       "    <tbody><tr><td>0.01</td><td>77.4744</td><td>0.0</td><td>H1</td></tr><tr><td>0.05</td><td>77.4744</td><td>0.0</td><td>H1</td></tr><tr><td>0.1</td><td>77.4744</td><td>0.0</td><td>H1</td></tr></tbody>\n",
       "    </table>"
      ],
      "text/plain": [
       "<IPython.core.display.HTML object>"
      ]
     },
     "metadata": {},
     "output_type": "display_data"
    }
   ],
   "source": [
    "print('б) Проверить статистические гипотезы')\n",
    "def Jarque_Bera_test(first, alpha_list=[0.01, 0.05, 0.1]):\n",
    "    x = np.array(df[first])\n",
    "    s = stats.skew(x)\n",
    "    k = stats.kurtosis(x)\n",
    "    n = len(x)\n",
    "    z = n * (s ** 2 / 6 + (k - 3) ** 2 / 24)\n",
    "    dist = stats.chi2(2)\n",
    "    l_p_value = 1. - dist.cdf(z)\n",
    "    p_value = 2 * min(l_p_value, 1 - l_p_value)\n",
    "    rows = []\n",
    "    for al in alpha_list:\n",
    "        critical_l_v = dist.ppf(al / 2)\n",
    "        critical_r_v = dist.ppf(1 - al / 2)\n",
    "        decision = 'H0' if critical_l_v < z < critical_r_v else 'H1'\n",
    "        rows.append([al, round(z, 4), p_value, decision])\n",
    "    table(\n",
    "        ['Уровень значимости', 'Выборочное значение статистики критерия', 'p-value', 'Статистическое решение'],\n",
    "        rows\n",
    "    ) \n",
    "    \n",
    "TASK_4_2 = ['C7']\n",
    "Jarque_Bera_test(TASK_4_2[0])"
   ]
  },
  {
   "cell_type": "markdown",
   "metadata": {},
   "source": [
    "# 5. Проверка однородности выборок\n",
    "Анализируемый признак 1 – C13 (Plasma beta-carotene (ng/ml))\n",
    "\n",
    "Анализируемый признак 2 – C14 (Plasma Retinol (ng/ml))\n",
    "\n",
    "Объёмы выборок – 315\n",
    "\n",
    "## 5.1 Критерий знаков\n",
    "Статистическая гипотеза –  дана"
   ]
  },
  {
   "cell_type": "code",
   "execution_count": 14,
   "metadata": {},
   "outputs": [
    {
     "name": "stdout",
     "output_type": "stream",
     "text": [
      "б) Проверить статистические гипотезы\n"
     ]
    },
    {
     "data": {
      "text/html": [
       "<table width=\"100%\" class=\"htable\">\n",
       "    <thead><tr><th>Уровень значимости</th><th>Выборочное значение статистики критерия</th><th>p-value</th><th>Статистическое решение</th></tr></thead>\n",
       "    <tbody><tr><td>0.01</td><td>-16.5087</td><td>0.0</td><td>H1</td></tr><tr><td>0.05</td><td>-16.5087</td><td>0.0</td><td>H1</td></tr><tr><td>0.1</td><td>-16.5087</td><td>0.0</td><td>H1</td></tr></tbody>\n",
       "    </table>"
      ],
      "text/plain": [
       "<IPython.core.display.HTML object>"
      ]
     },
     "metadata": {},
     "output_type": "display_data"
    }
   ],
   "source": [
    "alpha = [0.01, 0.05, 0.1]\n",
    "\n",
    "print('б) Проверить статистические гипотезы')\n",
    "\n",
    "def sign_test(first, second):\n",
    "    x = df[first]\n",
    "    y = df[second]\n",
    "    k = x - y\n",
    "    k = np.array(list(filter(lambda x: x != 0, k)))\n",
    "    k_positive = len(list(filter(lambda x: x > 0, k)))\n",
    "    n = len(k)\n",
    "    z = 2 * (k_positive - n/2) / np.sqrt(n)\n",
    "    rows = []\n",
    "    for al in alpha:\n",
    "        critical_value = stats.norm.ppf(1 - al / 2, 0 ,1)\n",
    "        p_left = stats.norm.cdf(z, 0 ,1)\n",
    "        p_value = min(p_left, 1-p_left)\n",
    "        decision = 'H0' if np.abs(z) < critical_value else 'H1'\n",
    "        rows.append([al,round(z, 4), round(p_value, 4),decision])\n",
    "    table(\n",
    "        ['Уровень значимости', 'Выборочное значение статистики критерия', 'p-value', 'Статистическое решение'],\n",
    "        rows\n",
    "    ) \n",
    "\n",
    "\n",
    "TASK_5 = ['C13', 'C14']\n",
    "sign_test(TASK_5[0], TASK_5[1])"
   ]
  },
  {
   "cell_type": "markdown",
   "metadata": {},
   "source": [
    "## 5.2. Критерий хи-квадрат\n",
    "Статистическая гипотеза – $H_0: F_1(x)=F_2(x)$"
   ]
  },
  {
   "cell_type": "code",
   "execution_count": 15,
   "metadata": {},
   "outputs": [
    {
     "name": "stdout",
     "output_type": "stream",
     "text": [
      "б) Выбрать число групп\n"
     ]
    },
    {
     "data": {
      "text/html": [
       "<table width=\"100%\" class=\"htable\">\n",
       "    <thead><tr><th>Число групп</th><th>Обоснования выбора числа групп</th><th>Ширина интервалов</th></tr></thead>\n",
       "    <tbody><tr><td>9</td><td>формула Стерджесса</td><td>191.9</td></tr></tbody>\n",
       "    </table>"
      ],
      "text/plain": [
       "<IPython.core.display.HTML object>"
      ]
     },
     "metadata": {},
     "output_type": "display_data"
    },
    {
     "name": "stdout",
     "output_type": "stream",
     "text": [
      "в) Построить таблицу частот\n"
     ]
    },
    {
     "data": {
      "text/html": [
       "<table width=\"100%\" class=\"htable\">\n",
       "    <thead><tr><th>Номер интервала</th><th>Нижняя граница</th><th>Верхняя граница</th><th>Частота признка1</th><th>Частота признка2</th><th>Относит. частота1</th><th>Относит. частота2</th></tr></thead>\n",
       "    <tbody><tr><td>1</td><td>0.0</td><td>191.9</td><td>215</td><td>2</td><td>0.6825</td><td>0.0063</td></tr><tr><td>2</td><td>191.9</td><td>383.8</td><td>73</td><td>28</td><td>0.2317</td><td>0.0889</td></tr><tr><td>3</td><td>383.8</td><td>575.7</td><td>17</td><td>134</td><td>0.054</td><td>0.4254</td></tr><tr><td>4</td><td>575.7</td><td>767.6</td><td>2</td><td>92</td><td>0.0063</td><td>0.2921</td></tr><tr><td>5</td><td>767.6</td><td>959.5</td><td>3</td><td>45</td><td>0.0095</td><td>0.1429</td></tr><tr><td>6</td><td>959.5</td><td>1151.4</td><td>2</td><td>8</td><td>0.0063</td><td>0.0254</td></tr><tr><td>7</td><td>1151.4</td><td>1343.3</td><td>1</td><td>3</td><td>0.0032</td><td>0.0095</td></tr><tr><td>8</td><td>1343.3</td><td>1535.2</td><td>2</td><td>2</td><td>0.0063</td><td>0.0063</td></tr><tr><td>9</td><td>1535.2</td><td>1727.1</td><td>0</td><td>1</td><td>0.0</td><td>0.0032</td></tr></tbody>\n",
       "    </table>"
      ],
      "text/plain": [
       "<IPython.core.display.HTML object>"
      ]
     },
     "metadata": {},
     "output_type": "display_data"
    }
   ],
   "source": [
    "def freq(x, local_begin, local_end):\n",
    "    return len(list(filter(lambda t: t >= local_begin and t < local_end, list(x))))\n",
    "\n",
    "def print_5_2(first , second):\n",
    "    np_first = np.array(df[first])\n",
    "    np_second = np.array(df[second])\n",
    "    begin = min(min(np_first), min(np_second))\n",
    "    end = max(max(np_first), max(np_second)) + 0.1\n",
    "    n = len(np_first)\n",
    "    k = int(1 + math.log(n, 2))\n",
    "    h =  (end - begin)/ k\n",
    "    print('б) Выбрать число групп')\n",
    "    table(\n",
    "        ['Число групп', 'Обоснования выбора числа групп', 'Ширина интервалов'],\n",
    "        [\n",
    "            [k, \"формула Стерджесса\", round(h, 4)]\n",
    "        ]\n",
    "    )\n",
    "    rows = []\n",
    "    bins = []\n",
    "    for i in range(1, k + 1):\n",
    "        local_begin = begin + (i-1)*h\n",
    "        bins.append(local_begin)\n",
    "        local_end   = begin + i*h\n",
    "        freq1 = freq(np_first, local_begin, local_end)\n",
    "        freq2 = freq(np_second, local_begin, local_end)\n",
    "        rows.append([i, round(local_begin, 4), round(local_end, 4), freq1, freq2, round(freq1/n, 4), round(freq2/n, 4)])\n",
    "    bins.append(local_end)\n",
    "    print('в) Построить таблицу частот')\n",
    "    table(\n",
    "        ['Номер интервала', 'Нижняя граница', 'Верхняя граница', 'Частота признка1', 'Частота признка2', 'Относит. частота1', 'Относит. частота2'],\n",
    "        rows\n",
    "    )\n",
    "    return bins\n",
    "bins = print_5_2(TASK_5[0], TASK_5[1])"
   ]
  },
  {
   "cell_type": "code",
   "execution_count": 16,
   "metadata": {},
   "outputs": [
    {
     "name": "stdout",
     "output_type": "stream",
     "text": [
      "г) Построить гистограммы относительных частот на одном графике\n"
     ]
    },
    {
     "data": {
      "image/png": "[encoded data removed]",
      "text/plain": [
       "<Figure size 432x288 with 1 Axes>"
      ]
     },
     "metadata": {
      "needs_background": "light"
     },
     "output_type": "display_data"
    }
   ],
   "source": [
    "print('г) Построить гистограммы относительных частот на одном графике')\n",
    "def hist_5_2(first, second, bins_list):\n",
    "    x = np.array(df[first])\n",
    "    y = np.array(df[second])\n",
    "    plt.hist(x, bins=bins_list, alpha=0.5, label=first, weights=np.zeros_like(x) + 1. / x.size)\n",
    "    plt.hist(y, bins=bins_list, alpha=0.5, label=second, weights=np.zeros_like(y) + 1. / y.size)\n",
    "    plt.title('Гистограммы относительных частот ')\n",
    "    plt.legend(loc='upper right')\n",
    "    plt.show()\n",
    "    \n",
    "hist_5_2(TASK_5[0], TASK_5[1], bins)"
   ]
  },
  {
   "cell_type": "code",
   "execution_count": 17,
   "metadata": {},
   "outputs": [
    {
     "name": "stdout",
     "output_type": "stream",
     "text": [
      "д) Проверить статистические гипотезы\n"
     ]
    },
    {
     "data": {
      "text/html": [
       "<table width=\"100%\" class=\"htable\">\n",
       "    <thead><tr><th>Уровень значимости</th><th>Выборочное значение статистики критерия</th><th>p-value</th><th>Статистическое решение</th></tr></thead>\n",
       "    <tbody><tr><td>0.01</td><td>448.2991</td><td>0.0</td><td>H1</td></tr><tr><td>0.05</td><td>448.2991</td><td>0.0</td><td>H1</td></tr><tr><td>0.1</td><td>448.2991</td><td>0.0</td><td>H1</td></tr></tbody>\n",
       "    </table>"
      ],
      "text/plain": [
       "<IPython.core.display.HTML object>"
      ]
     },
     "metadata": {},
     "output_type": "display_data"
    }
   ],
   "source": [
    "print('д) Проверить статистические гипотезы')\n",
    "def pirson_2smpl_test(first, second, bins):\n",
    "    dist = stats.chi2((len(bins) - 1) - 1)\n",
    "    x = np.array(df[first])\n",
    "    y = np.array(df[second])\n",
    "    hist1, _ = np.histogram(x, bins=bins)\n",
    "    hist2, _ = np.histogram(y, bins=bins)\n",
    "    n1 = len(x)\n",
    "    n2 = len(y)\n",
    "    z = n1 * n2 * np.sum(\n",
    "            1. / (hist1 + hist2) * (hist1 / n1 - hist2 / n2) ** 2\n",
    "        )\n",
    "    p_v = 1 - dist.cdf(z)\n",
    "    rows = []\n",
    "    for al in alpha:\n",
    "        critical_v = dist.ppf(1 - al)\n",
    "        decision = 'H0' if z < critical_v else 'H1'\n",
    "        rows.append([al, round(z, 4), p_v, decision])\n",
    "    table(\n",
    "        ['Уровень значимости', 'Выборочное значение статистики критерия', 'p-value', 'Статистическое решение'],\n",
    "        rows\n",
    "    )    \n",
    "\n",
    "pirson_2smpl_test(TASK_5[0], TASK_5[1], bins)"
   ]
  },
  {
   "cell_type": "markdown",
   "metadata": {},
   "source": [
    "# 6. Таблицы сопряжённости\n",
    "\n",
    "Факторный признак x – C2(Sex)\n",
    "\n",
    "Результативный признак y – C3(Smoking status)\n",
    "\n",
    "Объёмы выборок –315\n",
    "\n",
    "Статистическая гипотеза – в Word"
   ]
  },
  {
   "cell_type": "code",
   "execution_count": 18,
   "metadata": {},
   "outputs": [
    {
     "data": {
      "text/html": [
       "<table width=\"100%\" class=\"htable\">\n",
       "    <thead><tr><th>x \\ y</th><th>Current Smoker</th><th>Former</th><th>Never</th><th>$\\sum$</th></tr></thead>\n",
       "    <tbody><tr><td>Female</td><td>36</td><td>93</td><td>144</td><td>273</td></tr><tr><td>Male</td><td>7</td><td>22</td><td>13</td><td>42</td></tr><tr><td>$\\sum$</td><td>43</td><td>115</td><td>157</td><td>315</td></tr></tbody>\n",
       "    </table>"
      ],
      "text/plain": [
       "<IPython.core.display.HTML object>"
      ]
     },
     "metadata": {},
     "output_type": "display_data"
    }
   ],
   "source": [
    "def crosstab(first, second):\n",
    "    x = df[first]\n",
    "    x_labels = df.groupby(first).count().index\n",
    "    y_labels = df.groupby(second).count().index\n",
    "    \n",
    "    rows =[]\n",
    "    column_sum = [0 for i in range(len(y_labels)+1)] \n",
    "    for i in x_labels:\n",
    "        row = [i]\n",
    "        for j in range(len(y_labels)):\n",
    "            count = x[(df[first] == i) & (df[second] == y_labels[j])].count()\n",
    "            column_sum[j]+=count\n",
    "            row.append(count)\n",
    "        row_sum = sum(row[1:])\n",
    "        row.append(row_sum)\n",
    "        column_sum[j+1]+=row_sum\n",
    "        rows.append(row)\n",
    "    final_row =  ['$\\sum$']\n",
    "    final_row.extend(column_sum)\n",
    "    rows.append(final_row)\n",
    "    \n",
    "    first_row = ['x \\ y']\n",
    "    first_row.extend(y_labels)\n",
    "    first_row.append('$\\sum$')\n",
    "    \n",
    "    table(\n",
    "        first_row,\n",
    "        rows\n",
    "    ) \n",
    "    \n",
    "    for l in rows:\n",
    "        l.pop(0)\n",
    "    return np.array(rows)\n",
    "\n",
    "TASK_6 = ['C2', 'C3']\n",
    "ctab = crosstab(TASK_6[0], TASK_6[1])"
   ]
  },
  {
   "cell_type": "code",
   "execution_count": 19,
   "metadata": {},
   "outputs": [
    {
     "data": {
      "text/html": [
       "<table width=\"100%\" class=\"htable\">\n",
       "    <thead><tr><th>x \\ y</th><th>Current Smoker</th><th>Former</th><th>Never</th><th>$\\sum$</th></tr></thead>\n",
       "    <tbody><tr><td>Female</td><td>37.2667</td><td>99.6667</td><td>136.0667</td><td>273.0001</td></tr><tr><td>Male</td><td>5.7333</td><td>15.3333</td><td>20.9333</td><td>41.9999</td></tr><tr><td>$\\sum$</td><td>43.0</td><td>115.0</td><td>157.0</td><td>315.0</td></tr></tbody>\n",
       "    </table>"
      ],
      "text/plain": [
       "<IPython.core.display.HTML object>"
      ]
     },
     "metadata": {},
     "output_type": "display_data"
    }
   ],
   "source": [
    "def theoretical_crosstab(first, second, ctab):\n",
    "    x = df[first]\n",
    "    x_labels = df.groupby(first).count().index\n",
    "    y_labels = df.groupby(second).count().index\n",
    "    n = ctab[-1, -1]\n",
    "    rows =[]\n",
    "    column_sum = [0 for i in range(len(y_labels)+1)] \n",
    "    for i in range(len(x_labels)):\n",
    "        row = [x_labels[i]]\n",
    "        for j in range(len(y_labels)):\n",
    "            m = 1/n * ctab[i, -1] * ctab[-1, j]\n",
    "            column_sum[j]+=m\n",
    "            row.append(round(m, 4))\n",
    "        row_sum = sum(row[1:])\n",
    "        row.append(row_sum)\n",
    "        column_sum[j+1]+=row_sum\n",
    "        rows.append(row)\n",
    "    final_row =  ['$\\sum$']\n",
    "    final_row.extend(column_sum)\n",
    "    rows.append(final_row)\n",
    "    \n",
    "    first_row = ['x \\ y']\n",
    "    first_row.extend(y_labels)\n",
    "    first_row.append('$\\sum$')\n",
    "    \n",
    "    table(\n",
    "        first_row,\n",
    "        rows\n",
    "    ) \n",
    "    for l in rows:\n",
    "        l.pop(0)\n",
    "    return np.array(rows)\n",
    "    \n",
    "tctab = theoretical_crosstab(TASK_6[0], TASK_6[1], ctab)"
   ]
  },
  {
   "cell_type": "code",
   "execution_count": 20,
   "metadata": {},
   "outputs": [
    {
     "data": {
      "text/html": [
       "<table width=\"100%\" class=\"htable\">\n",
       "    <thead><tr><th>Уровень значимости</th><th>Выборочное значение статистики критерия</th><th>p-value</th><th>Статистическое решение</th></tr></thead>\n",
       "    <tbody><tr><td>0.01</td><td>7.1365</td><td>0.0282</td><td>H0</td></tr><tr><td>0.05</td><td>7.1365</td><td>0.0282</td><td>H1</td></tr><tr><td>0.1</td><td>7.1365</td><td>0.0282</td><td>H1</td></tr></tbody>\n",
       "    </table>"
      ],
      "text/plain": [
       "<IPython.core.display.HTML object>"
      ]
     },
     "metadata": {},
     "output_type": "display_data"
    }
   ],
   "source": [
    "def criteria_crosstab(ctab, tctab, alpha=[0.01, 0.05, 0.1]):\n",
    "    z = np.sum((ctab - tctab)**2 / tctab)\n",
    "    dist = stats.chi2(((ctab.shape[0] - 1) - 1)*((ctab.shape[1] -1) - 1))\n",
    "    p_v= 1 - dist.cdf(z)\n",
    "    rows = []\n",
    "    for al in alpha:\n",
    "        critical_v = dist.ppf(1 - al)\n",
    "        decision = 'H0' if z < critical_v else 'H1'\n",
    "        rows.append([al, round(z, 4), round(p_v, 4), decision])\n",
    "    table(\n",
    "        ['Уровень значимости', 'Выборочное значение статистики критерия', 'p-value', 'Статистическое решение'],\n",
    "        rows\n",
    "    )\n",
    "criteria_crosstab(ctab, tctab)"
   ]
  },
  {
   "cell_type": "markdown",
   "metadata": {},
   "source": [
    "# 7. Дисперсионный анализ\n",
    "Факторный признак x – C5(Vitamin Use)\n",
    "\n",
    "Результативный признак y – C13(Plasma beta-carotene (ng/ml))\n",
    "\n",
    "Число вариантов факторного признака – 3\n",
    "\n",
    "Объёмы выборок – 315\n",
    "\n",
    "Статистическая гипотеза – в Word"
   ]
  },
  {
   "cell_type": "code",
   "execution_count": 22,
   "metadata": {},
   "outputs": [
    {
     "data": {
      "text/html": [
       "<table width=\"100%\" class=\"htable\">\n",
       "    <thead><tr><th>№ п/п</th><th>Вариант факторного признака</th><th>Объём выборки</th><th>Групповые средние</th><th>Групповые дисперсии</th></tr></thead>\n",
       "    <tbody><tr><td>1</td><td>No</td><td>111</td><td>136.8919</td><td>8417.1415</td></tr><tr><td>2</td><td>Not often</td><td>82</td><td>185.6585</td><td>20522.0297</td></tr><tr><td>3</td><td>Often</td><td>122</td><td>240.959</td><td>59566.4164</td></tr></tbody>\n",
       "    </table>"
      ],
      "text/plain": [
       "<IPython.core.display.HTML object>"
      ]
     },
     "metadata": {},
     "output_type": "display_data"
    }
   ],
   "source": [
    "def print_7_a(first, second):\n",
    "    fetures = df.groupby(first).count().index\n",
    "    rows = []\n",
    "    for i in range(len(fetures)):\n",
    "        n  = len(df[df[first] == fetures[i]])\n",
    "        temp =  np.array(df[df[first] == fetures[i]][second], dtype=float)\n",
    "        mean = temp.mean()\n",
    "        temp =  np.array(df[df[first] == fetures[i]][second])\n",
    "        var = temp.var()\n",
    "        rows.append([i+1, fetures[i], n , round(mean, 4), round(var, 4)])\n",
    "    table(\n",
    "        ['№ п/п','Вариант факторного признака','Объём выборки','Групповые средние','Групповые дисперсии'],\n",
    "        rows\n",
    "    )\n",
    "    rows = np.array(rows)\n",
    "    return rows[:, 2:].astype(float)\n",
    "\n",
    "TASK_7 = ['C5', 'C13']\n",
    "data = print_7_a(TASK_7[0], TASK_7[1])"
   ]
  },
  {
   "cell_type": "code",
   "execution_count": 28,
   "metadata": {},
   "outputs": [
    {
     "name": "stdout",
     "output_type": "stream",
     "text": [
      "136.8919\n",
      "185.6585\n",
      "240.959\n"
     ]
    },
    {
     "data": {
      "text/html": [
       "<table width=\"100%\" class=\"htable\">\n",
       "    <thead><tr><th>Источник вариации</th><th> Показатель вариации</th><th> Число степеней свободы</th><th>Несмещенная оценка</th></tr></thead>\n",
       "    <tbody><tr><td>Факторный признак</td><td>2004.5274</td><td>2</td><td>315713.0595</td></tr><tr><td>Остаточные признаки</td><td>31378.4506</td><td>312</td><td>31680.1665</td></tr><tr><td>Все признаки</td><td>33382.9788</td><td>314</td><td>33489.294</td></tr></tbody>\n",
       "    </table>"
      ],
      "text/plain": [
       "<IPython.core.display.HTML object>"
      ]
     },
     "metadata": {},
     "output_type": "display_data"
    },
    {
     "data": {
      "text/html": [
       "<table width=\"100%\" class=\"htable\">\n",
       "    <thead><tr><th>Показатель</th><th> Dмежгр</th><th> Dвнутригр</th><th>Dобщ</th><th> Dмежгр + Dвнутригр</th></tr></thead>\n",
       "    <tbody><tr><td>Значение</td><td>2004.5274</td><td>31378.4506</td><td>33382.9788</td><td>33382.978</td></tr></tbody>\n",
       "    </table>"
      ],
      "text/plain": [
       "<IPython.core.display.HTML object>"
      ]
     },
     "metadata": {},
     "output_type": "display_data"
    },
    {
     "data": {
      "text/html": [
       "<table width=\"100%\" class=\"htable\">\n",
       "    <thead><tr><th>Показатель</th><th> Формула расчета</th><th> Значение</th></tr></thead>\n",
       "    <tbody><tr><td>Эмпирический коэффициент детерминаци</td><td>$\\frac{D_b}{D_X}$</td><td>0.06</td></tr><tr><td>Эмпирическое корреляционное отношение</td><td>$\\sqrt{\\frac{D_b}{D_X}}$</td><td>0.245</td></tr></tbody>\n",
       "    </table>"
      ],
      "text/plain": [
       "<IPython.core.display.HTML object>"
      ]
     },
     "metadata": {},
     "output_type": "display_data"
    }
   ],
   "source": [
    "def print_7_b(second, data):\n",
    "    np_second = np.array(df[second])\n",
    "    mean = np.mean(np_second)\n",
    "    dx = np.var(np_second)\n",
    "    K = data.shape[0]\n",
    "    n = len(np_second)\n",
    "    db = 0\n",
    "\n",
    "    for i in range(data.shape[0]):\n",
    "        print(data[i, 1])\n",
    "        db+=data[i, 0]*(data[i, 1] - mean)**2\n",
    "    db/=n\n",
    "    \n",
    "    dw=0\n",
    "    for i  in range(data.shape[0]):\n",
    "        dw+=data[i, 0]*data[i, 2]\n",
    "    dw/=n\n",
    "    \n",
    "\n",
    "    table(\n",
    "        ['Источник вариации',' Показатель вариации',' Число степеней свободы', 'Несмещенная оценка'],\n",
    "        [\n",
    "            ['Факторный признак', round(db, 4), K-1, round(n/(K-1)*db, 4)], \n",
    "            ['Остаточные признаки', round(dw, 4), n-K, round(n/(n-K)*dw, 4)],\n",
    "            ['Все признаки', round(dx, 4), n-1, round(n/(n-1)*dx, 4)]\n",
    "        ]\n",
    "    )\n",
    "    \n",
    "    table(\n",
    "        ['Показатель', ' Dмежгр', ' Dвнутригр', 'Dобщ', ' Dмежгр + Dвнутригр'],\n",
    "        [\n",
    "            ['Значение', round(db, 4), round(dw, 4), round(dx, 4), round(db+dw, 4)]\n",
    "        ]\n",
    "    )\n",
    "    table(\n",
    "        ['Показатель', ' Формула расчета',' Значение'],\n",
    "        [\n",
    "            ['Эмпирический коэффициент детерминаци','$\\\\frac{D_b}{D_X}$' , round(db / dx, 4)],\n",
    "            ['Эмпирическое корреляционное отношение', '$\\\\sqrt{\\\\frac{D_b}{D_X}}$', round(np.sqrt(db/dx), 4)]\n",
    "        ]\n",
    "    )\n",
    "    \n",
    "    \n",
    "print_7_b(TASK_7[1], data)"
   ]
  },
  {
   "cell_type": "code",
   "execution_count": 32,
   "metadata": {},
   "outputs": [
    {
     "data": {
      "text/html": [
       "<table width=\"100%\" class=\"htable\">\n",
       "    <thead><tr><th>Уровень значимости</th><th> Выборочное значение статистики критерия</th><th> p-value</th><th> Статистическое решение</th></tr></thead>\n",
       "    <tbody><tr><td>0.01</td><td>9.9656</td><td>6e-05</td><td>H1</td></tr><tr><td>0.05</td><td>9.9656</td><td>6e-05</td><td>H1</td></tr><tr><td>0.1</td><td>9.9656</td><td>6e-05</td><td>H1</td></tr></tbody>\n",
       "    </table>"
      ],
      "text/plain": [
       "<IPython.core.display.HTML object>"
      ]
     },
     "metadata": {},
     "output_type": "display_data"
    }
   ],
   "source": [
    "def print_7_c(first, second):\n",
    "    features = df.groupby(first).count().index\n",
    "    features_list = []\n",
    "    for f in features:\n",
    "        features_list.append(df[df[first] == f][second])\n",
    "    criterion_v, p_v = stats.f_oneway(*features_list)\n",
    "    n = len(df[second])\n",
    "    K = len(features_list)\n",
    "    dist = stats.f(K- 1, n - K)\n",
    "    rows = []\n",
    "    for al in alpha:\n",
    "        critical_v = dist.ppf(1 - al)\n",
    "        decision = 'H0' if criterion_v < critical_v else 'H1'\n",
    "        rows.append([al, round(criterion_v, 4), round(p_v, 5), decision])\n",
    "    table(\n",
    "        ['Уровень значимости', ' Выборочное значение статистики критерия', ' p-value',' Статистическое решение'],\n",
    "        rows\n",
    "    )   \n",
    "print_7_c(TASK_7[0], TASK_7[1])"
   ]
  },
  {
   "cell_type": "markdown",
   "metadata": {},
   "source": [
    "# 8. Корреляционный анализ"
   ]
  },
  {
   "cell_type": "markdown",
   "metadata": {},
   "source": [
    "## 8.1. Расчёт парных коэффициентов корреляции\n",
    "Анализируемый признак 1 – C13 (Plasma beta-carotene (ng/ml))\n",
    "\n",
    "Анализируемый признак 2 – C14 (Plasma Retinol (ng/ml))\n",
    "\n",
    "Объёмы выборок – 315"
   ]
  },
  {
   "cell_type": "code",
   "execution_count": 38,
   "metadata": {},
   "outputs": [],
   "source": [
    "TASK_8_1 = ['C13', 'C14']\n",
    "X = np.array(df[TASK_8_1[0]])\n",
    "Y = np.array(df[TASK_8_1[1]]) \n",
    "\n",
    "x = Sample.from_data(\"x\", X)\n",
    "y = Sample.from_data(\"y\", Y)"
   ]
  },
  {
   "cell_type": "code",
   "execution_count": 46,
   "metadata": {},
   "outputs": [
    {
     "name": "stdout",
     "output_type": "stream",
     "text": [
      "а) Рассчитать точечные оценки коэффициентов корреляции\n"
     ]
    },
    {
     "data": {
      "text/html": [
       "<table width=\"100%\" class=\"htable\">\n",
       "    <thead><tr><th></th><th>Формула расчета</th><th>Значение</th></tr></thead>\n",
       "    <tbody><tr><td>Линейный коэффициент корреляции</td><td></td><td>0.0716</td></tr><tr><td>Ранговый коэффициент корреляции по Спирмену</td><td></td><td>0.1306</td></tr><tr><td>Ранговый коэффициент корреляции по Кендаллу</td><td></td><td>0.0858</td></tr></tbody>\n",
       "    </table>"
      ],
      "text/plain": [
       "<IPython.core.display.HTML object>"
      ]
     },
     "metadata": {},
     "output_type": "display_data"
    }
   ],
   "source": [
    "print('а) Рассчитать точечные оценки коэффициентов корреляции')\n",
    "table(\n",
    "    ['', 'Формула расчета', 'Значение'],\n",
    "    [\n",
    "        ['Линейный коэффициент корреляции', '', round(stats.pearsonr(x.data() ,y.data())[0], 4)],\n",
    "        ['Ранговый коэффициент корреляции по Спирмену', '', round(stats.spearmanr(x.data() ,y.data())[0], 4)],\n",
    "        ['Ранговый коэффициент корреляции по Кендаллу', '', round(stats.kendalltau(x.data() ,y.data())[0], 4)]\n",
    "    ]\n",
    ")"
   ]
  },
  {
   "cell_type": "code",
   "execution_count": 40,
   "metadata": {},
   "outputs": [
    {
     "name": "stdout",
     "output_type": "stream",
     "text": [
      "б) Привести формулы расчёта доверительного интервала для линейного коэффициента корреляции\n"
     ]
    }
   ],
   "source": [
    "print('б) Привести формулы расчёта доверительного интервала для линейного коэффициента корреляции')"
   ]
  },
  {
   "cell_type": "code",
   "execution_count": 41,
   "metadata": {},
   "outputs": [
    {
     "name": "stdout",
     "output_type": "stream",
     "text": [
      "в) Рассчитать доверительные интервалы для линейного коэффициента корреляции\n"
     ]
    },
    {
     "data": {
      "text/html": [
       "<table width=\"100%\" class=\"htable\">\n",
       "    <thead><tr><th>Граница доверительного интервала</th><th>$\\alpha = 0.01$</th><th>$\\alpha = 0.05$</th><th>$\\alpha = 0.1$</th></tr></thead>\n",
       "    <tbody><tr><td>Нижняя граница</td><td>-0.0739</td><td>-0.0391</td><td>-0.0213</td></tr><tr><td>Верхняя граница</td><td>0.2143</td><td>0.1808</td><td>0.1635</td></tr></tbody>\n",
       "    </table>"
      ],
      "text/plain": [
       "<IPython.core.display.HTML object>"
      ]
     },
     "metadata": {},
     "output_type": "display_data"
    }
   ],
   "source": [
    "print('в) Рассчитать доверительные интервалы для линейного коэффициента корреляции')\n",
    "ro = stats.pearsonr(x.data() ,y.data())[0]\n",
    "alpha = [0.01, 0.05, 0.1]\n",
    "\n",
    "table_low = ['Нижняя граница']\n",
    "table_high = ['Верхняя граница']\n",
    "\n",
    "for i in range (3):\n",
    "    ro1 = np.tanh(1/2 * np.log((1+ro)/(1-ro)) + ro/(2*(x.n()-1)) - (stats.norm(0,1).ppf(1-alpha[i]/2))/(np.sqrt(x.n()-3)))\n",
    "    ro2 = np.tanh(1/2 * np.log((1+ro)/(1-ro)) + ro/(2*(x.n()-1)) + (stats.norm(0,1).ppf(1-alpha[i]/2))/(np.sqrt(x.n()-3)))\n",
    "    #print (\"нижняя граница: \", ro1, \"| верхняя граница: \", ro2, \"\\n\")\n",
    "    table_low.append(round(ro1, 4))\n",
    "    table_high.append(round(ro2, 4))\n",
    "    \n",
    "table(\n",
    "    ['Граница доверительного интервала', '$\\\\alpha = 0.01$', '$\\\\alpha = 0.05$', '$\\\\alpha = 0.1$'],\n",
    "    [\n",
    "        table_low,\n",
    "        table_high\n",
    "    ]\n",
    ")"
   ]
  },
  {
   "cell_type": "code",
   "execution_count": 42,
   "metadata": {},
   "outputs": [
    {
     "name": "stdout",
     "output_type": "stream",
     "text": [
      "г) Указать формулы расчёта показателей, используемых при проверке значимости коэффициентов корреляции\n"
     ]
    }
   ],
   "source": [
    "print('г) Указать формулы расчёта показателей, используемых при проверке значимости коэффициентов корреляции')"
   ]
  },
  {
   "cell_type": "code",
   "execution_count": 43,
   "metadata": {},
   "outputs": [
    {
     "name": "stdout",
     "output_type": "stream",
     "text": [
      "д) Проверить значимость коэффициентов корреляции\n"
     ]
    },
    {
     "data": {
      "text/html": [
       "<table width=\"100%\" class=\"htable\">\n",
       "    <thead><tr><th>Статистическая гипотеза</th><th>Уровень значимости</th><th>Выборочное значение статистики критерия</th><th>p-value</th><th>Статистическое решение</th><th>Вывод</th></tr></thead>\n",
       "    <tbody><tr><td></td><td>0.1</td><td>1.2696</td><td>0.2052</td><td>H0</td><td></td></tr><tr><td></td><td>0.1</td><td>2.3309</td><td>0.0204</td><td>H'</td><td></td></tr><tr><td></td><td>0.1</td><td>2.2786</td><td>0.0234</td><td>H'</td><td></td></tr></tbody>\n",
       "    </table>"
      ],
      "text/plain": [
       "<IPython.core.display.HTML object>"
      ]
     },
     "metadata": {},
     "output_type": "display_data"
    }
   ],
   "source": [
    "print('д) Проверить значимость коэффициентов корреляции')\n",
    "\n",
    "r = stats.spearmanr(x.data() ,y.data())[0]\n",
    "tau = stats.kendalltau(x.data() ,y.data())[0]\n",
    "\n",
    "def Sxy(x, y):\n",
    "    return ((x.ranks()-y.ranks())**2).sum()\n",
    "\n",
    "z_ro = ro*np.sqrt(x.n()-2)/np.sqrt(1-ro**2)\n",
    "z_r = r*np.sqrt(x.n()-2)/np.sqrt(1-r**2)\n",
    "z_tau = np.sqrt((9*x.n()*(x.n()+1))/(2*(2*x.n()+5)))*tau\n",
    "\n",
    "#print (\"статистика ro:\",z_ro,\" | статистика r:\",z_r,\" | статистика tau:\",z_tau,\"\\n\")\n",
    "\n",
    "p_ro = stats.pearsonr(x.data() ,y.data())[1]\n",
    "p_r = stats.spearmanr(x.data() ,y.data())[1]\n",
    "p_tau = stats.kendalltau(x.data() ,y.data())[1]\n",
    "\n",
    "#print (\"p-val ro:\",p_ro,\" | p-val r:\",p_r,\" | p-val tau:\",p_tau,\"\\n\")\n",
    "\n",
    "alpha = 0.1\n",
    "\n",
    "def decision(a, p) :\n",
    "    if p>a:\n",
    "        return \"H0\"\n",
    "    else:\n",
    "        return \"H'\"\n",
    "\n",
    "d_ro = decision(alpha, p_ro)\n",
    "d_r = decision(alpha, p_r)\n",
    "d_tau = decision(alpha, p_tau)\n",
    "\n",
    "#print (\"решение ro:\",d_ro,\" | решение r:\",d_r,\" | решение tau:\",d_tau,\"\\n\")\n",
    "\n",
    "table(\n",
    "    ['Статистическая гипотеза', 'Уровень значимости', 'Выборочное значение статистики критерия', 'p-value', 'Статистическое решение', 'Вывод'],\n",
    "    [\n",
    "        ['', 0.1, round(z_ro, 4), round(p_ro, 4), d_ro, ''],\n",
    "        ['', 0.1, round(z_r, 4), round(p_r, 4), d_r, ''],\n",
    "        ['', 0.1, round(z_tau, 4), round(p_tau, 4), d_tau, '']\n",
    "    ]\n",
    ")"
   ]
  },
  {
   "cell_type": "markdown",
   "metadata": {},
   "source": [
    "## 8.2. Расчёт множественных коэффициентов корреляции\n",
    "\n",
    "Анализируемый признак 1 – C7(Grams of fat consumed per day)\n",
    "\n",
    "Анализируемый признак 2 – C9(Number of alcoholic drinks consumed per week)\n",
    "\n",
    "Анализируемый признак 3 – C12(Dietary retinol consumed (mcg per day))\n",
    "\n",
    "Объёмы выборок – 315"
   ]
  },
  {
   "cell_type": "code",
   "execution_count": 48,
   "metadata": {},
   "outputs": [],
   "source": [
    "TASK_8_2 = ['C7', 'C9', 'C12']\n",
    "X = np.array(df[TASK_8_2[0]])\n",
    "Y = np.array(df[TASK_8_2[1]])  \n",
    "Z = np.array(df[TASK_8_2[2]]) \n",
    "\n",
    "x = Sample.from_data(\"x\", X)\n",
    "y = Sample.from_data(\"y\", Y)\n",
    "z = Sample.from_data(\"z\", Z)"
   ]
  },
  {
   "cell_type": "code",
   "execution_count": 49,
   "metadata": {},
   "outputs": [
    {
     "name": "stdout",
     "output_type": "stream",
     "text": [
      "а) Рассчитать матрицу ранговых коэффициентов корреляции по Кендаллу\n"
     ]
    },
    {
     "data": {
      "text/html": [
       "<table width=\"100%\" class=\"htable\">\n",
       "    <thead><tr><th></th><th>C7</th><th>C9</th><th>C12</th></tr></thead>\n",
       "    <tbody><tr><td>C7</td><td>1.0</td><td>0.0401</td><td>0.3519</td></tr><tr><td>C9</td><td>0.0401</td><td>1.0</td><td>-0.0298</td></tr><tr><td>C12</td><td>0.3519</td><td>-0.0298</td><td>1.0</td></tr></tbody>\n",
       "    </table>"
      ],
      "text/plain": [
       "<IPython.core.display.HTML object>"
      ]
     },
     "metadata": {},
     "output_type": "display_data"
    },
    {
     "name": "stdout",
     "output_type": "stream",
     "text": [
      "б) Рассчитать матрицу значений p-value для ранговых коэффициентов корреляции по Кендаллу\n",
      "- | 0.3139793745569568 | 1.2951628478306393e-20 \n",
      "\n",
      "0.3139793745569568 | - | 0.45359933130367136 \n",
      "\n",
      "1.2951628478306393e-20 | 0.45359933130367136 | - \n",
      "\n"
     ]
    },
    {
     "data": {
      "text/html": [
       "<table width=\"100%\" class=\"htable\">\n",
       "    <thead><tr><th></th><th>C7</th><th>C9</th><th>C12</th></tr></thead>\n",
       "    <tbody><tr><td>C7</td><td>$-$</td><td>0.314</td><td>0.0</td></tr><tr><td>C9</td><td>0.314</td><td>$-$</td><td>0.4536</td></tr><tr><td>C12</td><td>0.0</td><td>0.4536</td><td>$-$</td></tr></tbody>\n",
       "    </table>"
      ],
      "text/plain": [
       "<IPython.core.display.HTML object>"
      ]
     },
     "metadata": {},
     "output_type": "display_data"
    }
   ],
   "source": [
    "print('а) Рассчитать матрицу ранговых коэффициентов корреляции по Кендаллу')\n",
    "xx = stats.kendalltau(x.data() ,x.data())[0]\n",
    "xy = stats.kendalltau(x.data() ,y.data())[0]\n",
    "xz = stats.kendalltau(x.data() ,z.data())[0]\n",
    "yy = stats.kendalltau(y.data() ,y.data())[0]\n",
    "yz = stats.kendalltau(y.data() ,z.data())[0]\n",
    "zz = stats.kendalltau(z.data() ,z.data())[0]\n",
    "\n",
    "table(\n",
    "    ['']+TASK_8_2,\n",
    "    [\n",
    "        [TASK_8_2[0], round(xx, 4), round(xy, 4), round(xz, 4)],\n",
    "        [TASK_8_2[1], round(xy, 4), round(yy, 4), round(yz, 4)],\n",
    "        [TASK_8_2[2], round(xz, 4), round(yz, 4), round(zz, 4)]\n",
    "    ]\n",
    ")\n",
    "\n",
    "\n",
    "print(\"б) Рассчитать матрицу значений p-value для ранговых коэффициентов корреляции по Кендаллу\")\n",
    "\n",
    "p_xx = stats.kendalltau(x.data() ,x.data())[1]\n",
    "p_xy = stats.kendalltau(x.data() ,y.data())[1]\n",
    "p_xz = stats.kendalltau(x.data() ,z.data())[1]\n",
    "p_yy = stats.kendalltau(y.data() ,y.data())[1]\n",
    "p_yz = stats.kendalltau(y.data() ,z.data())[1]\n",
    "p_zz = stats.kendalltau(z.data() ,z.data())[1]\n",
    "\n",
    "print (\"-\",\"|\",p_xy,\"|\",p_xz,\"\\n\")\n",
    "print (p_xy,\"|\",\"-\",\"|\",p_yz,\"\\n\")\n",
    "print (p_xz,\"|\",p_yz,\"|\",\"-\",\"\\n\")\n",
    "table(\n",
    "    ['']+TASK_8_2,\n",
    "    [\n",
    "        [TASK_8_2[0], '$-$', round(p_xy, 4), round(p_xz, 4)],\n",
    "        [TASK_8_2[1], round(p_xy, 4), '$-$', round(p_yz, 4)],\n",
    "        [TASK_8_2[2], round(p_xz, 4), round(p_yz, 4), '$-$']\n",
    "    ]\n",
    ")"
   ]
  },
  {
   "cell_type": "code",
   "execution_count": 50,
   "metadata": {},
   "outputs": [
    {
     "name": "stdout",
     "output_type": "stream",
     "text": [
      "в) Рассчитать точечную оценку коэффициента конкордации\n",
      "Коэффициент конкордации: 0.44417366595468666\n"
     ]
    }
   ],
   "source": [
    "print('в) Рассчитать точечную оценку коэффициента конкордации')\n",
    "# Формула расчета W = 12/(k**2*(n**3-n))*sum_i(1,n)((d_i-d)**2), d_i = sum_j(1,k)(r_ij), d = k*(n+1)/2. \n",
    "# n - число показателей, k — число экспертов, r_ij - ранг i показателя определённый j экспертом\n",
    "k = 3\n",
    "n = x.n()\n",
    "\n",
    "ranks_x = x.ranks()\n",
    "ranks_y = y.ranks()\n",
    "ranks_z = z.ranks()\n",
    "\n",
    "ar = [\n",
    "    [ranks_x[i], ranks_y[i], ranks_z[i]] for i in range(x.n())\n",
    "]\n",
    "\n",
    "d_i = [\n",
    "    sum(ar[i]) for i in range(x.n())\n",
    "]\n",
    "d_i = np.array(d_i)\n",
    "\n",
    "d = [\n",
    "    k*(n+1)/2 for i in range(x.n())\n",
    "]\n",
    "d = np.array(d)\n",
    "\n",
    "\n",
    "s = ((d_i - d)**2).sum()\n",
    "    \n",
    "W = 12/(k**2*(n**3-n)) * s\n",
    "print (\"Коэффициент конкордации:\", W)"
   ]
  },
  {
   "cell_type": "code",
   "execution_count": 51,
   "metadata": {},
   "outputs": [
    {
     "name": "stdout",
     "output_type": "stream",
     "text": [
      "г) Указать формулы расчёта показателей, используемых при проверке значимости коэффициента конкордации\n",
      "д) Проверить значимость коэффициента конкордации\n",
      "418.4115933293148 7.130244481634573e-05 \n",
      "\n",
      "критическая точка:  258.6577294152047\n",
      "решение: H0\n",
      "критическая точка:  273.94802792906006\n",
      "решение: H0\n",
      "критическая точка:  282.3430452011803\n",
      "решение: H0\n"
     ]
    }
   ],
   "source": [
    "print('г) Указать формулы расчёта показателей, используемых при проверке значимости коэффициента конкордации')\n",
    "print('д) Проверить значимость коэффициента конкордации')\n",
    "def left_p_value(dist, criterion_value):\n",
    "    return dist.cdf(criterion_value)\n",
    "\n",
    "def right_p_value(dist, criterion_value):\n",
    "    return 1 - dist.cdf(criterion_value)\n",
    "\n",
    "def two_sided_p_value(dist, criterion_value):\n",
    "    left_p = left_p_value(dist, criterion_value)\n",
    "    return 2 * min(left_p, 1 - left_p)\n",
    "# г), д)\n",
    "# Z = k * (n-1) * W \n",
    "# chi2(n-1)\n",
    "# x(1-alpha) , x - квантиль chi2(n-1)\n",
    "# 1-F(Z)\n",
    "# есть зависимость - H0 если Z > x(1-alpha)\n",
    "\n",
    "Z = k * (n-1) * W\n",
    "p = right_p_value(stats.chi2(n-1), Z)\n",
    "\n",
    "print (Z, p, \"\\n\")\n",
    "\n",
    "\n",
    "alpha = [0.01, 0.05, 0.1]\n",
    "for a in alpha :\n",
    "    crit = stats.chi2(n-1).ppf(a)\n",
    "    print (\"критическая точка: \",crit)\n",
    "    if Z>crit : # может быть всё-таки знак < ?\n",
    "        print (\"решение: H0\")\n",
    "    else :\n",
    "        print (\"решение: H'\")"
   ]
  },
  {
   "cell_type": "markdown",
   "metadata": {},
   "source": [
    "# 9. Регрессионный анализ"
   ]
  },
  {
   "cell_type": "markdown",
   "metadata": {},
   "source": [
    "## 9.1 Простейшая линейная регрессионная модель\n",
    "Факторный признак x – C6(Number of calories consumed per day)\n",
    "\n",
    "Результативный признак y – C13(Plasma beta-carotene (ng/ml))\n",
    "\n",
    "Уравнение регрессии –  линейное"
   ]
  },
  {
   "cell_type": "code",
   "execution_count": 53,
   "metadata": {},
   "outputs": [],
   "source": [
    "TASK_9_1 = ['C6', 'C13']\n",
    "X = np.array(df[TASK_9_1[0]])\n",
    "Y = np.array(df[TASK_9_1[1]])\n",
    "x = Sample.from_data(\"x\", X)\n",
    "y = Sample.from_data(\"y\", Y)"
   ]
  },
  {
   "cell_type": "code",
   "execution_count": 54,
   "metadata": {},
   "outputs": [
    {
     "name": "stdout",
     "output_type": "stream",
     "text": [
      "а) Рассчитать точечные оценки параметров линейной регрессионной модели\n",
      "b0: 200.6239454749055  | b1: -0.005973258278958728\n"
     ]
    }
   ],
   "source": [
    "print('а) Рассчитать точечные оценки параметров линейной регрессионной модели')\n",
    "b1, b0, _,_,_ = stats.linregress(x.data(), y.data())\n",
    "print (\"b0:\",b0,\" | b1:\",b1)\n",
    "\n",
    "reg_func = lambda x: b0 + b1*x"
   ]
  },
  {
   "cell_type": "code",
   "execution_count": 55,
   "metadata": {},
   "outputs": [
    {
     "name": "stdout",
     "output_type": "stream",
     "text": [
      "б) Записать точечную оценку уравнения регрессии\n"
     ]
    }
   ],
   "source": [
    "print('б) Записать точечную оценку уравнения регрессии')"
   ]
  },
  {
   "cell_type": "code",
   "execution_count": 56,
   "metadata": {},
   "outputs": [
    {
     "name": "stdout",
     "output_type": "stream",
     "text": [
      "в) Привести формулы расчёта показателей вариации, используемых в регрессионном анализе\n"
     ]
    },
    {
     "data": {
      "text/html": [
       "<table width=\"100%\" class=\"htable\">\n",
       "    <thead><tr><th>Источник вариации</th><th>Показатель вариации</th><th>Число степеней свободы</th><th>Несмещённая оценка</th></tr></thead>\n",
       "    <tbody><tr><td>Факторный признак</td><td>$D_{регрессионная}$</td><td>$k-1$</td><td>$D_{регрессионная} * \\frac{n}{k-1}$</td></tr><tr><td>Остаточные признаки</td><td>$D_{остаточная}$</td><td>$n-k$</td><td>$D_{остаточная} * \\frac{n}{n-k}$</td></tr><tr><td>Все признаки</td><td>$D_{общая}$</td><td>$n-1$</td><td>$D_{общая} * \\frac{n}{n-1}$</td></tr></tbody>\n",
       "    </table>"
      ],
      "text/plain": [
       "<IPython.core.display.HTML object>"
      ]
     },
     "metadata": {},
     "output_type": "display_data"
    }
   ],
   "source": [
    "print('в) Привести формулы расчёта показателей вариации, используемых в регрессионном анализе')\n",
    "table(\n",
    "    ['Источник вариации', 'Показатель вариации', 'Число степеней свободы', 'Несмещённая оценка'],\n",
    "    [\n",
    "        ['Факторный признак', '$D_{регрессионная}$', '$k-1$', '$D_{регрессионная} * \\\\frac{n}{k-1}$'],\n",
    "        ['Остаточные признаки', '$D_{остаточная}$', '$n-k$', '$D_{остаточная} * \\\\frac{n}{n-k}$'],\n",
    "        ['Все признаки', '$D_{общая}$', '$n-1$', '$D_{общая} * \\\\frac{n}{n-1}$']\n",
    "    ]\n",
    ")"
   ]
  },
  {
   "cell_type": "code",
   "execution_count": 59,
   "metadata": {},
   "outputs": [
    {
     "name": "stdout",
     "output_type": "stream",
     "text": [
      "г) Рассчитать показатели вариации, используемые в регрессионном анализе\n"
     ]
    },
    {
     "data": {
      "text/html": [
       "<table width=\"100%\" class=\"htable\">\n",
       "    <thead><tr><th>Источник вариации</th><th>Показатель вариации</th><th>Число степеней свободы</th><th>Несмещённая оценка</th></tr></thead>\n",
       "    <tbody><tr><td>Факторный признак</td><td>16.4628</td><td>1</td><td>5185.7758</td></tr><tr><td>Остаточные признаки</td><td>33366.516</td><td>313</td><td>33579.7206</td></tr><tr><td>Все признаки</td><td>33382.9788</td><td>314</td><td>33489.294</td></tr></tbody>\n",
       "    </table>"
      ],
      "text/plain": [
       "<IPython.core.display.HTML object>"
      ]
     },
     "metadata": {},
     "output_type": "display_data"
    },
    {
     "name": "stdout",
     "output_type": "stream",
     "text": [
      "д) Проверить правило сложения дисперсий\n",
      "D_регрессионная: 16.4628 | D_остаточная: 33366.516 | D_общая: 33382.9788 | D_регрессионная + D_остаточная: 33382.9788\n",
      "могут не совпадать т.к. нет функциональной зависимости\n"
     ]
    },
    {
     "data": {
      "text/html": [
       "<table width=\"100%\" class=\"htable\">\n",
       "    <thead><tr><th>Показатель</th><th>$D_{регрессионная}$</th><th>$D_{остаточная}$</th><th>$D_{общая}$</th><th>$D_{остаточная} + D_{общая}$</th></tr></thead>\n",
       "    <tbody><tr><td>Значение</td><td>16.4628</td><td>33366.516</td><td>33383</td><td>33382.9788</td></tr></tbody>\n",
       "    </table>"
      ],
      "text/plain": [
       "<IPython.core.display.HTML object>"
      ]
     },
     "metadata": {},
     "output_type": "display_data"
    }
   ],
   "source": [
    "print('г) Рассчитать показатели вариации, используемые в регрессионном анализе')\n",
    "# г), д)\n",
    "k = 2\n",
    "n = y.n()\n",
    "# межгрупповая~регрессионная\n",
    "# внутригрупповая~остаточная\n",
    "\n",
    "# D_y = 1/n sum_i(1, n)((y_i - y_mean)**2)\n",
    "# D_регр = 1/n sum_i(1, n)((f(x_i)-y_mean)**2)\n",
    "# D_ост = 1/n sum_i(1, n)((y_i - f(x_i))**2)\n",
    "    \n",
    "D_y = 0\n",
    "for i in range(y.n()) :\n",
    "    D_y += (y.data()[i] - y.mean())**2\n",
    "D_y = float(D_y)/y.n()\n",
    "\n",
    "D_r = 0\n",
    "for i in range(y.n()) :\n",
    "    D_r += (reg_func(x.data()[i]) - y.mean())**2\n",
    "D_r = float(D_r)/y.n()\n",
    "\n",
    "D_o = 0\n",
    "for i in range(y.n()) :\n",
    "    D_o += (y.data()[i] - reg_func(x.data()[i]))**2\n",
    "D_o = float(D_o)/y.n()\n",
    "\n",
    "Fn_r = k-1\n",
    "Fn_o = n-k\n",
    "Fn_y = n-1\n",
    "\n",
    "Dn_r = (n/(k-1)) * D_r\n",
    "Dn_o = (n/(n-k)) * D_o\n",
    "Dn_y = (n/(n-1)) * D_y\n",
    "\n",
    "table(\n",
    "    ['Источник вариации', 'Показатель вариации', 'Число степеней свободы', 'Несмещённая оценка'],\n",
    "    [\n",
    "        ['Факторный признак', round(D_r, 4), round(Fn_r, 4), round(Dn_r, 4)],\n",
    "        ['Остаточные признаки', round(D_o, 4), round(Fn_o, 4), round(Dn_o, 4)],\n",
    "        ['Все признаки', round(D_y, 4), round(Fn_y, 4), round(Dn_y, 4)]\n",
    "    ]\n",
    ")\n",
    "\n",
    "simple_linear_var = [D_r, D_o, D_y]\n",
    "\n",
    "print('д) Проверить правило сложения дисперсий')\n",
    "\n",
    "print (\"D_регрессионная:\",round(D_r, 4),\"| D_остаточная:\",round(D_o, 4),\"| D_общая:\",round(D_y, 4),\"| D_регрессионная + D_остаточная:\",round(D_r+D_o, 4),)\n",
    "print (\"могут не совпадать т.к. нет функциональной зависимости\")\n",
    "\n",
    "table(\n",
    "    ['Показатель', '$D_{регрессионная}$', '$D_{остаточная}$', '$D_{общая}$', '$D_{остаточная} + D_{общая}$'],\n",
    "    [\n",
    "        ['Значение', round(D_r, 4), round(D_o, 4), round(D_y), round(D_r+D_o, 4)]\n",
    "    ]\n",
    ")"
   ]
  },
  {
   "cell_type": "code",
   "execution_count": 60,
   "metadata": {},
   "outputs": [
    {
     "name": "stdout",
     "output_type": "stream",
     "text": [
      "е) Рассчитать показатели тесноты связи между факторным и результативным признаками\n",
      "коэффициент детерминации: R^2 = Dрегр/Dобщ = 0.0004931489333031045\n",
      "корреляционное отношение: R = 0.022206956867232047\n"
     ]
    }
   ],
   "source": [
    "print('е) Рассчитать показатели тесноты связи между факторным и результативным признаками')\n",
    "print (\"коэффициент детерминации: R^2 = Dрегр/Dобщ =\",D_r/D_y)\n",
    "print (\"корреляционное отношение: R =\",np.sqrt(D_r/D_y))"
   ]
  },
  {
   "cell_type": "markdown",
   "metadata": {},
   "source": [
    "### 9.1.2. Интервальные оценки линейной регрессионной модели"
   ]
  },
  {
   "cell_type": "code",
   "execution_count": 61,
   "metadata": {},
   "outputs": [
    {
     "name": "stdout",
     "output_type": "stream",
     "text": [
      "а) :\n",
      "b0 +- t(1-alpha/2)(n-2) * sqrt(D_ост) * sqrt((sum_i(1, n)(x_i**2))/(n**2 * D_x))\n",
      "b1 +- t(1-alpha/2)(n-2) * sqrt(D_ост) * sqrt((1/(n * D_x))\n",
      "б) :\n",
      "124.95951995230787 143.17927217568297 152.45870975721658\n",
      "276.28837099750314 258.068618774128 248.7891811925944\n",
      "-0.045365942680446754 -0.03588030997721065 -0.031049215925442686\n",
      "0.0334194261225293 0.0239337934192932 0.019102699367525226\n",
      "в) :\n",
      "b0 + b1*x +- t(1-alpha/2)(n-2) * sqrt(1/n + (x-x_mean)**2/(n*D_x))\n"
     ]
    }
   ],
   "source": [
    "# 9.1.2\n",
    "# a),б),в)\n",
    "\n",
    "print (\"а) :\")\n",
    "print (\"b0 +- t(1-alpha/2)(n-2) * sqrt(D_ост) * sqrt((sum_i(1, n)(x_i**2))/(n**2 * D_x))\")\n",
    "print (\"b1 +- t(1-alpha/2)(n-2) * sqrt(D_ост) * sqrt((1/(n * D_x))\")\n",
    "n=y.n()\n",
    "t001 = stats.t(n-2).ppf(1-0.01/2)\n",
    "t005 = stats.t(n-2).ppf(1-0.05/2)\n",
    "t01 = stats.t(n-2).ppf(1-0.1/2)\n",
    "\n",
    "sumx_i = 0\n",
    "for i in range(x.n()) :\n",
    "    sumx_i += x.data()[i]**2\n",
    "\n",
    "tail0 = np.sqrt(Dn_o)*np.sqrt(sumx_i/(n**2 * x.var()))\n",
    "tail1 = np.sqrt(Dn_o)*np.sqrt(1/(n * x.var()))\n",
    "print (\"б) :\")\n",
    "print (b0 - t001*tail0, b0 - t005*tail0, b0 - t01*tail0)\n",
    "print (b0 + t001*tail0, b0 + t005*tail0, b0 + t01*tail0)\n",
    "print (b1 - t001*tail1, b1 - t005*tail1, b1 - t01*tail1)\n",
    "print (b1 + t001*tail1, b1 + t005*tail1, b1 + t01*tail1)\n",
    "\n",
    "print (\"в) :\")\n",
    "print (\"b0 + b1*x +- t(1-alpha/2)(n-2) * sqrt(1/n + (x-x_mean)**2/(n*D_x))\")"
   ]
  },
  {
   "cell_type": "code",
   "execution_count": 65,
   "metadata": {},
   "outputs": [
    {
     "data": {
      "text/plain": [
       "[<matplotlib.lines.Line2D at 0xc84c5c0>]"
      ]
     },
     "execution_count": 65,
     "metadata": {},
     "output_type": "execute_result"
    },
    {
     "data": {
      "image/png": "[encoded data removed]",
      "text/plain": [
       "<Figure size 432x288 with 1 Axes>"
      ]
     },
     "metadata": {
      "needs_background": "light"
     },
     "output_type": "display_data"
    },
    {
     "data": {
      "image/png": "[encoded data removed]",
      "text/plain": [
       "<Figure size 432x288 with 1 Axes>"
      ]
     },
     "metadata": {
      "needs_background": "light"
     },
     "output_type": "display_data"
    }
   ],
   "source": [
    "# г),д)\n",
    "\n",
    "fig, ax0 = plt.subplots(1,1)\n",
    "fig, ax1 = plt.subplots(1,1)\n",
    "\n",
    "x_linspace = np.linspace(x.data().min(), x.data().max(), 100)\n",
    "y_values = [\n",
    "    reg_func(a) for a in x_linspace\n",
    "]\n",
    "y_values_min = [\n",
    "    reg_func(a)-t01*np.sqrt(Dn_o)*np.sqrt(1/n + (a-x.mean())**2/(n*x.var())) for a in x_linspace\n",
    "]\n",
    "y_values_max = [\n",
    "    reg_func(a)+t01*np.sqrt(Dn_o)*np.sqrt(1/n + (a-x.mean())**2/(n*x.var())) for a in x_linspace\n",
    "]\n",
    "\n",
    "\n",
    "ax0.set_title('Диаграмма рассеяния случайных величин X и Y:')\n",
    "ax0.set_xlabel('X')\n",
    "ax0.set_ylabel('Y')\n",
    "\n",
    "ax0.scatter(x.data(), y.data())\n",
    "ax0.plot(x_linspace, y_values, label='f(x)')\n",
    "ax0.plot(x_linspace, y_values_min, label='f_min(x)')\n",
    "ax0.plot(x_linspace, y_values_max, label='f_max(x)')\n",
    "\n",
    "e_func = lambda x, y: y - reg_func(x)\n",
    "\n",
    "pairs = [\n",
    "    [x.data()[i], y.data()[i]] for i in range(x.n())\n",
    "]\n",
    "pairs = np.array(pairs)\n",
    "pairs = np.sort(pairs, 0)\n",
    "\n",
    "e_values = [\n",
    "    e_func((pairs[i][0]), (pairs[i][1])) for i in range(len(pairs))\n",
    "]\n",
    "\n",
    "x_sorted = np.sort(x.data())\n",
    "\n",
    "ax1.set_title('График остатков')\n",
    "ax1.set_xlabel('x')\n",
    "ax1.set_ylabel('e')\n",
    "ax1.plot(x_sorted, e_values, label='e(x)')"
   ]
  },
  {
   "cell_type": "code",
   "execution_count": 66,
   "metadata": {},
   "outputs": [
    {
     "name": "stdout",
     "output_type": "stream",
     "text": [
      "0.15443177398848218 0.6946031791352819\n",
      "H0\n",
      "H0\n",
      "H0\n"
     ]
    }
   ],
   "source": [
    "# 9.1.3\n",
    "# a),б)\n",
    "\n",
    "\n",
    "# закон распределения : F(1, n-2)\n",
    "# x(1-alpha) , x - квантиль F(1, n-2) - крит точка\n",
    "# 1-F(Z), F-функция распределения\n",
    "# b1=0 - H0\n",
    "\n",
    "Z = D_r/(D_o/(n-2))\n",
    "p = right_p_value(stats.f(1, n-2), Z)\n",
    "\n",
    "print (Z, p)\n",
    "\n",
    "alpha = [0.01, 0.05, 0.1]\n",
    "for a in alpha :\n",
    "    print (decision(a,p))"
   ]
  },
  {
   "cell_type": "markdown",
   "metadata": {},
   "source": [
    "## 9.2 Линейная регрессионная модель общего вида"
   ]
  },
  {
   "cell_type": "code",
   "execution_count": 68,
   "metadata": {},
   "outputs": [],
   "source": [
    "TASK_9_2 = ['C6', 'C13']\n",
    "X = np.array(df[TASK_9_2[0]])\n",
    "Y = np.array(df[TASK_9_2[1]])\n",
    "x = Sample.from_data(\"x\", X)\n",
    "y = Sample.from_data(\"y\", Y)"
   ]
  },
  {
   "cell_type": "code",
   "execution_count": 69,
   "metadata": {},
   "outputs": [
    {
     "name": "stdout",
     "output_type": "stream",
     "text": [
      "b0: 189.8920634920635  | b1: 0.09172684811316871  | b2: 2.6312332993277536e-05\n"
     ]
    }
   ],
   "source": [
    "# 9.2.1\n",
    "# а), б)\n",
    "\n",
    "#f(x) = b0 + b1*x + b2*x**2\n",
    "#b_j = (sum_i(1, n)(y_i * f_j(x_i)))/(sum_i(1, n)(f_j^2(x_i)))\n",
    "\n",
    "def coef_sqr_reg(func_j):\n",
    "    s_upper = 0\n",
    "    s_lower = 0\n",
    "    for i in range (y.n()):\n",
    "        s_upper += y.data()[i]*func_j(x.data()[i])\n",
    "        s_lower += (func_j(x.data()[i]))**2\n",
    "    return float(s_upper)/s_lower\n",
    "\n",
    "f0 = lambda x : 1\n",
    "f1 = lambda x : x\n",
    "f2 = lambda x : x**2\n",
    "\n",
    "b0 = coef_sqr_reg(f0)\n",
    "b1 = coef_sqr_reg(f1)\n",
    "b2 = coef_sqr_reg(f2)\n",
    "\n",
    "print (\"b0:\",b0,\" | b1:\",b1,\" | b2:\",b2)\n"
   ]
  },
  {
   "cell_type": "code",
   "execution_count": 70,
   "metadata": {},
   "outputs": [
    {
     "data": {
      "text/plain": [
       "(156.53132228118244, 0.037071021822301715, -9.010501022101325e-06)"
      ]
     },
     "execution_count": 70,
     "metadata": {},
     "output_type": "execute_result"
    }
   ],
   "source": [
    "a0 = np.ones((len(X), 1))\n",
    "a1 = np.expand_dims(X ,axis=0)\n",
    "a2 = np.expand_dims(X**2 ,axis=0)\n",
    "A = np.concatenate((a0, a1.T, a2.T), axis=1)\n",
    "Y1 = np.expand_dims(Y, axis=0).T\n",
    "beta = np.dot(np.dot(np.linalg.inv(np.dot(A.T, A)), A.T), Y1)\n",
    "beta\n",
    "b0 = beta[0, 0]\n",
    "b1 = beta[1, 0]\n",
    "b2 = beta[2, 0]\n",
    "b0 , b1, b2"
   ]
  },
  {
   "cell_type": "code",
   "execution_count": 71,
   "metadata": {},
   "outputs": [
    {
     "data": {
      "text/html": [
       "<table width=\"100%\" class=\"htable\">\n",
       "    <thead><tr><th>Источник вариации</th><th>Показатель вариации</th><th>Число степеней свободы</th><th>Несмещённая оценка</th></tr></thead>\n",
       "    <tbody><tr><td>Факторный признак</td><td>136.46102080305195</td><td>2</td><td>21492.610776480684</td></tr><tr><td>Остаточные признаки</td><td>33246.517805097676</td><td>312</td><td>33566.19586091592</td></tr><tr><td>Все признаки</td><td>33382.97882590072</td><td>314</td><td>33489.29404509149</td></tr></tbody>\n",
       "    </table>"
      ],
      "text/plain": [
       "<IPython.core.display.HTML object>"
      ]
     },
     "metadata": {},
     "output_type": "display_data"
    },
    {
     "name": "stdout",
     "output_type": "stream",
     "text": [
      "D_регрессионная: 136.46102080305195 | D_остаточная: 33246.517805097676 | D_общая: 33382.97882590072 | D_регрессионная + D_остаточная: 33382.978825900725\n",
      "могут не совпадать т.к. нет функциональной зависимости\n"
     ]
    }
   ],
   "source": [
    "# в), г)\n",
    "reg_func = lambda x: b0 + b1*x + b2*x**2\n",
    "k = 3\n",
    "n = y.n()\n",
    "\n",
    "D_y = 0\n",
    "for i in range(y.n()) :\n",
    "    D_y += (y.data()[i] - y.mean())**2\n",
    "D_y = float(D_y)/y.n()\n",
    "\n",
    "\n",
    "\n",
    "D_r = 0\n",
    "for i in range(y.n()) :\n",
    "    D_r += (reg_func(x.data()[i]) - y.mean())**2\n",
    "D_r = float(D_r)/y.n()\n",
    "\n",
    "D_o = 0\n",
    "for i in range(y.n()) :\n",
    "    D_o += (y.data()[i] - reg_func(x.data()[i]))**2\n",
    "D_o = float(D_o)/y.n()\n",
    "\n",
    "Fn_r = k-1\n",
    "Fn_o = n-k\n",
    "Fn_y = n-1\n",
    "\n",
    "Dn_r = (n/(k-1)) * D_r\n",
    "Dn_o = (n/(n-k)) * D_o\n",
    "Dn_y = (n/(n-1)) * D_y\n",
    "\n",
    "table(\n",
    "    ['Источник вариации', 'Показатель вариации', 'Число степеней свободы', 'Несмещённая оценка'],\n",
    "    [\n",
    "        ['Факторный признак', D_r, Fn_r, Dn_r],\n",
    "        ['Остаточные признаки', D_o, Fn_o, Dn_o],\n",
    "        ['Все признаки', D_y, Fn_y, Dn_y]\n",
    "    ]\n",
    ")\n",
    "\n",
    "sqr_linear_var = [D_r, D_o, D_y]\n",
    "\n",
    "print (\"D_регрессионная:\",D_r,\"| D_остаточная:\",D_o,\"| D_общая:\",D_y,\"| D_регрессионная + D_остаточная:\",D_r+D_o,)\n",
    "print (\"могут не совпадать т.к. нет функциональной зависимости\")"
   ]
  },
  {
   "cell_type": "code",
   "execution_count": 72,
   "metadata": {},
   "outputs": [
    {
     "name": "stdout",
     "output_type": "stream",
     "text": [
      "коэффициент детерминации: R^2 = Dрегр/Dобщ = 0.004087742484417733\n",
      "корреляционное отношение: R = 0.06393545561281105\n"
     ]
    }
   ],
   "source": [
    "# д)\n",
    "\n",
    "R_2 = D_r/D_y\n",
    "R = np.sqrt(D_r/D_y)\n",
    "\n",
    "print (\"коэффициент детерминации: R^2 = Dрегр/Dобщ =\",R_2)\n",
    "print (\"корреляционное отношение: R =\",R)"
   ]
  },
  {
   "cell_type": "code",
   "execution_count": 73,
   "metadata": {},
   "outputs": [
    {
     "name": "stdout",
     "output_type": "stream",
     "text": [
      "f(x) +- t(1-alpha/2, n-k)*sqrt(D_ост_несм)*sqrt(f_T(x)*(F_T*F)^-1*f(x))\n",
      " здесь f(x)=(f0(x),f1(x),...)_T - столбец хначений фуенкций в х, F - регрессионная матрица\n"
     ]
    }
   ],
   "source": [
    "# 9.2.2\n",
    "# a)\n",
    "\n",
    "print (\"f(x) +- t(1-alpha/2, n-k)*sqrt(D_ост_несм)*sqrt(f_T(x)*(F_T*F)^-1*f(x))\\n здесь f(x)=(f0(x),f1(x),...)_T - столбец хначений фуенкций в х, F - регрессионная матрица\")"
   ]
  },
  {
   "cell_type": "code",
   "execution_count": 76,
   "metadata": {},
   "outputs": [
    {
     "name": "stdout",
     "output_type": "stream",
     "text": [
      "156.60542828282294\n"
     ]
    },
    {
     "data": {
      "text/plain": [
       "[<matplotlib.lines.Line2D at 0xa5ae748>]"
      ]
     },
     "execution_count": 76,
     "metadata": {},
     "output_type": "execute_result"
    },
    {
     "data": {
      "image/png": "[encoded data removed]",
      "text/plain": [
       "<Figure size 432x288 with 1 Axes>"
      ]
     },
     "metadata": {
      "needs_background": "light"
     },
     "output_type": "display_data"
    },
    {
     "data": {
      "image/png": "[encoded data removed]",
      "text/plain": [
       "<Figure size 432x288 with 1 Axes>"
      ]
     },
     "metadata": {
      "needs_background": "light"
     },
     "output_type": "display_data"
    }
   ],
   "source": [
    "# б), в)\n",
    "from numpy import linalg\n",
    "\n",
    "f_row = lambda x : np.array([f0(x), f1(x), f2(x)]) \n",
    "f_column = lambda x : (f_row(x)).transpose()  \n",
    "\n",
    "F = [\n",
    "    f_row(val) for val in x.data()\n",
    "]\n",
    "\n",
    "F = np.array(F)\n",
    "\n",
    "fig, ax0 = plt.subplots(1,1)\n",
    "fig, ax1 = plt.subplots(1,1)\n",
    "\n",
    "x_linspace = np.linspace(x.data().min(), x.data().max(), 100)\n",
    "y_values = [\n",
    "    reg_func(a) for a in x_linspace\n",
    "]\n",
    "y_values_min = [\n",
    "    reg_func(a)-stats.t(n-k).ppf(1-0.1/2)*np.sqrt(Dn_o)*np.sqrt(np.dot(np.dot(f_row(a),linalg.inv(np.dot(F.transpose(),F))),f_column(a))) for a in x_linspace\n",
    "]\n",
    "y_values_max = [\n",
    "    reg_func(a)+stats.t(n-k).ppf(1-0.1/2)*np.sqrt(Dn_o)*np.sqrt(np.dot(np.dot(f_row(a),linalg.inv(np.dot(F.transpose(),F))),f_column(a))) for a in x_linspace\n",
    "]\n",
    "\n",
    "x_linspace = np.linspace(x.data().min(), x.data().max(), 100)\n",
    "ax0.set_title('Диаграмма рассеяния случайных величин X и Y:')\n",
    "ax0.set_xlabel('X')\n",
    "ax0.set_ylabel('Y')\n",
    "\n",
    "print(reg_func(2))\n",
    "ax0.scatter(x.data(), y.data())\n",
    "ax0.plot(x_linspace, y_values, label='f(x)')\n",
    "ax0.plot(x_linspace, y_values_min, label='f_min(x)')\n",
    "ax0.plot(x_linspace, y_values_max, label='f_max(x)')\n",
    "\n",
    "e_func = lambda x, y: y - reg_func(x)\n",
    "\n",
    "pairs = [\n",
    "    [x.data()[i], y.data()[i]] for i in range(x.n())\n",
    "]\n",
    "pairs = np.array(pairs)\n",
    "pairs = np.sort(pairs, 0)\n",
    "\n",
    "e_values = [\n",
    "    e_func((pairs[i][0]), (pairs[i][1])) for i in range(len(pairs))\n",
    "]\n",
    "\n",
    "x_sorted = np.sort(x.data())\n",
    "\n",
    "ax1.set_title('График остатков')\n",
    "ax1.set_xlabel('x')\n",
    "ax1.set_ylabel('e')\n",
    "ax1.plot(x_sorted, e_values, label='e(x)')\n"
   ]
  },
  {
   "cell_type": "code",
   "execution_count": null,
   "metadata": {},
   "outputs": [],
   "source": []
  }
 ],
 "metadata": {
  "kernelspec": {
   "display_name": "Python 3",
   "language": "python",
   "name": "python3"
  },
  "language_info": {
   "codemirror_mode": {
    "name": "ipython",
    "version": 3
   },
   "file_extension": ".py",
   "mimetype": "text/x-python",
   "name": "python",
   "nbconvert_exporter": "python",
   "pygments_lexer": "ipython3",
   "version": "3.8.6"
  }
 },
 "nbformat": 4,
 "nbformat_minor": 2
}
